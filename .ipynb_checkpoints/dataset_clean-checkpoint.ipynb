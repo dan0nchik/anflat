{
 "cells": [
  {
   "cell_type": "markdown",
   "id": "87a929bb",
   "metadata": {
    "direction": "ltr"
   },
   "source": [
    "# Cleaning"
   ]
  },
  {
   "cell_type": "code",
   "execution_count": 68,
   "id": "08e3d282",
   "metadata": {},
   "outputs": [],
   "source": [
    "import pandas as pd\n",
    "import numpy as np\n",
    "import seaborn as sns\n",
    "pd.set_option('display.max_columns', None)\n",
    "%config Completer.use_jedi = True\n",
    "%matplotlib inline\n",
    "# sns.set(rc={'figure.figsize':(10,10)})\n",
    "from sklearn.impute import SimpleImputer\n",
    "from matplotlib.pyplot import figure"
   ]
  },
  {
   "cell_type": "code",
   "execution_count": null,
   "id": "a8018109",
   "metadata": {},
   "outputs": [],
   "source": [
    "untouched_df = pd.read_excel('data.xlsx')\n",
    "metro_untouched = pd.read_excel('adressesV7.xlsx')"
   ]
  },
  {
   "cell_type": "code",
   "execution_count": null,
   "id": "f7119c9d",
   "metadata": {},
   "outputs": [],
   "source": [
    "df = untouched_df\n",
    "metro = metro_untouched\n",
    "print('INITIAL LENGTH', len(df))"
   ]
  },
  {
   "cell_type": "code",
   "execution_count": null,
   "id": "039bda5c",
   "metadata": {},
   "outputs": [],
   "source": [
    "df.head(3)"
   ]
  },
  {
   "cell_type": "code",
   "execution_count": null,
   "id": "8df1f943",
   "metadata": {
    "tags": []
   },
   "outputs": [],
   "source": [
    "df['Район'].value_counts()"
   ]
  },
  {
   "cell_type": "code",
   "execution_count": null,
   "id": "af1aae3c",
   "metadata": {
    "tags": []
   },
   "outputs": [],
   "source": [
    "df = df.drop(['ID проекта', 'ID корпуса', 'Локация', 'ID лота', 'Расчетный бюджет объекта', 'Кол-во месяцев обременения', 'Рост бюджета покупки за период экспонирования', 'Округ', 'Месяц и год даты договора','Месяц и год даты регистрации', 'Проект'], axis=1)"
   ]
  },
  {
   "cell_type": "code",
   "execution_count": null,
   "id": "5c205da3",
   "metadata": {
    "tags": []
   },
   "outputs": [],
   "source": [
    "df = df.rename(columns={'Количество комнат в прайс-листе, типология bnmap.pro': 'Количество комнат'})"
   ]
  },
  {
   "cell_type": "code",
   "execution_count": null,
   "id": "12a100cf",
   "metadata": {
    "tags": []
   },
   "outputs": [],
   "source": [
    "df.head(3)"
   ]
  },
  {
   "cell_type": "code",
   "execution_count": null,
   "id": "747c01e8",
   "metadata": {},
   "outputs": [],
   "source": [
    "df['Стадия строительной готовности на дату договора'].describe()"
   ]
  },
  {
   "cell_type": "code",
   "execution_count": null,
   "id": "021cc564",
   "metadata": {
    "tags": []
   },
   "outputs": [],
   "source": [
    "df['Заявленный срок ввода в эксплуатацию'] = pd.to_datetime(df['Заявленный срок ввода в эксплуатацию'], errors='coerce')"
   ]
  },
  {
   "cell_type": "code",
   "execution_count": null,
   "id": "414a1b4b",
   "metadata": {
    "tags": []
   },
   "outputs": [],
   "source": [
    "df = df.drop('Год договора', axis=1)\n",
    "df = df.drop('Год регистрации', axis=1)"
   ]
  },
  {
   "cell_type": "code",
   "execution_count": null,
   "id": "aa50b59c",
   "metadata": {
    "tags": []
   },
   "outputs": [],
   "source": [
    "def split_quater(name):\n",
    "    quater,year = [],[]\n",
    "    for i in df[name]:\n",
    "        quater.append(i.split(' ')[0][0])\n",
    "        year.append(i.split(' ')[-1])\n",
    "    return quater, year"
   ]
  },
  {
   "cell_type": "code",
   "execution_count": null,
   "id": "d4f53948",
   "metadata": {
    "tags": []
   },
   "outputs": [],
   "source": [
    "df.insert(9, \"Квартал договора\", split_quater('Квартал и год договора')[0])\n",
    "df = df.drop('Квартал и год договора', axis=1)\n",
    "df['Квартал договора'] = df['Квартал договора'].astype(str).astype(int)\n",
    "df['Дата договора'] = pd.to_datetime(df['Дата договора'])"
   ]
  },
  {
   "cell_type": "code",
   "execution_count": null,
   "id": "611d3be7",
   "metadata": {
    "tags": []
   },
   "outputs": [],
   "source": [
    "df.insert(12, \"Квартал регистрации\", split_quater('Квартал и год регистрации')[0])\n",
    "df = df.drop('Квартал и год регистрации', axis=1)\n",
    "df['Квартал регистрации'] = df['Квартал регистрации'].astype(str).astype(int)"
   ]
  },
  {
   "cell_type": "code",
   "execution_count": null,
   "id": "6d283eb1",
   "metadata": {
    "tags": []
   },
   "outputs": [],
   "source": [
    "print(df['Секция'].isnull().sum())\n",
    "df['Секция']=df['Секция'].replace(float('nan'),0)\n",
    "imputer = SimpleImputer(missing_values=0, strategy='mean')\n",
    "df['Секция'] = imputer.fit_transform(df['Секция'].values.reshape(-1, 1))\n",
    "df['Секция'] = df['Секция'].astype(int)"
   ]
  },
  {
   "cell_type": "code",
   "execution_count": null,
   "id": "95fda42d",
   "metadata": {
    "tags": []
   },
   "outputs": [],
   "source": [
    "print(df['Цена за кв. метр'].isnull().sum())\n",
    "df = df.dropna(subset = ['Цена за кв. метр'])"
   ]
  },
  {
   "cell_type": "code",
   "execution_count": null,
   "id": "5f4f9c63",
   "metadata": {},
   "outputs": [],
   "source": [
    "df['Количество комнат'].value_counts()"
   ]
  },
  {
   "cell_type": "code",
   "execution_count": null,
   "id": "34dcefbb",
   "metadata": {},
   "outputs": [],
   "source": [
    "df['Количество комнат'] = df['Количество комнат'].replace('ст','студия')\n",
    "print(df['Количество комнат'].isnull().sum())\n",
    "df['Количество комнат'] = df['Количество комнат'].replace(float('nan'),0)\n",
    "print(df['Количество комнат'].unique())\n",
    "df = df[df['Количество комнат'] != 0]\n",
    "df = df[df['Количество комнат'] != 'bez-tipa']\n",
    "df = df[df['Количество комнат'] != '-']\n",
    "print(df['Количество комнат'].unique())"
   ]
  },
  {
   "cell_type": "code",
   "execution_count": null,
   "id": "1937173d",
   "metadata": {},
   "outputs": [],
   "source": [
    "df = df.loc[df['Цена за кв. метр']>0]\n",
    "df = df.loc[df['Площадь согласно ПД']>0]"
   ]
  },
  {
   "cell_type": "code",
   "execution_count": null,
   "id": "36530110",
   "metadata": {},
   "outputs": [],
   "source": [
    "print(df['Класс'].value_counts())\n",
    "df['Класс'].replace('Бизнес-', 'Бизнес', inplace=True)\n",
    "print(df['Класс'].value_counts())"
   ]
  },
  {
   "cell_type": "code",
   "execution_count": null,
   "id": "a30f8c6b",
   "metadata": {},
   "outputs": [],
   "source": [
    "df.insert(2,'Расстояние до метро', 0)"
   ]
  },
  {
   "cell_type": "code",
   "execution_count": null,
   "id": "7be6fe20",
   "metadata": {},
   "outputs": [],
   "source": [
    "len(metro['Расстояние до метро'])"
   ]
  },
  {
   "cell_type": "code",
   "execution_count": null,
   "id": "e1b9d690",
   "metadata": {},
   "outputs": [],
   "source": [
    "len(set(df['Адрес корпуса']))"
   ]
  },
  {
   "cell_type": "code",
   "execution_count": null,
   "id": "8239f11b",
   "metadata": {},
   "outputs": [],
   "source": [
    "metro['Расстояние до метро'].hist()\n",
    "print(metro['Расстояние до метро'].max())"
   ]
  },
  {
   "cell_type": "code",
   "execution_count": null,
   "id": "92d05d89",
   "metadata": {},
   "outputs": [],
   "source": []
  },
  {
   "cell_type": "code",
   "execution_count": null,
   "id": "b2ff5542",
   "metadata": {},
   "outputs": [],
   "source": [
    "d = {}\n",
    "for i in range(len(metro)):\n",
    "    d[metro.loc[i, 'Адрес']] = metro.loc[i, 'Расстояние до метро']"
   ]
  },
  {
   "cell_type": "code",
   "execution_count": null,
   "id": "53700c53",
   "metadata": {},
   "outputs": [],
   "source": [
    "df.head(5)"
   ]
  },
  {
   "cell_type": "code",
   "execution_count": null,
   "id": "9ab9ea0f",
   "metadata": {},
   "outputs": [],
   "source": [
    "for i in range(len(df)):\n",
    "    try:\n",
    "        df.loc[i, 'Расстояние до метро'] = round(d[df.loc[i, 'Адрес корпуса']],2)\n",
    "    except:\n",
    "        pass\n",
    "df['Расстояние до метро'].replace(0, np.nan, inplace=True)"
   ]
  },
  {
   "cell_type": "code",
   "execution_count": null,
   "id": "e5b3287c",
   "metadata": {},
   "outputs": [],
   "source": [
    "df.dropna(inplace=True)\n",
    "print('FINAL LENGTH', len(df))"
   ]
  },
  {
   "cell_type": "markdown",
   "id": "adeea0b9",
   "metadata": {},
   "source": [
    "# Anaaaaaalyze"
   ]
  },
  {
   "cell_type": "code",
   "execution_count": null,
   "id": "98ffb0f9",
   "metadata": {},
   "outputs": [],
   "source": [
    "df.head(3)"
   ]
  },
  {
   "cell_type": "code",
   "execution_count": null,
   "id": "7d480c3e",
   "metadata": {},
   "outputs": [],
   "source": [
    "figure(figsize=(2, 3), dpi=100)"
   ]
  },
  {
   "cell_type": "code",
   "execution_count": null,
   "id": "439a4864",
   "metadata": {},
   "outputs": [],
   "source": [
    "# figure(figsize=(10, 5), dpi=300)\n",
    "import matplotlib.pyplot as plt\n",
    "plt.xticks(rotation=0)\n",
    "df['Девелопер'].value_counts(sort=True, ascending=True).plot.barh()\n",
    "# plt.savefig(f'developer.jpg', bbox_inches = 'tight', dpi=300)"
   ]
  },
  {
   "cell_type": "code",
   "execution_count": null,
   "id": "f9bf713e",
   "metadata": {},
   "outputs": [],
   "source": [
    "# figure(figsize=(10, 5), dpi=300)\n",
    "\n",
    "plt.xticks(rotation=0)\n",
    "df['Метод определения цены'].value_counts(sort=True, ascending=True).plot.barh()\n",
    "# plt.savefig(f'Метод определения цены.jpg', bbox_inches = 'tight', dpi=300)"
   ]
  },
  {
   "cell_type": "code",
   "execution_count": null,
   "id": "9083b167",
   "metadata": {},
   "outputs": [],
   "source": [
    "# figure(figsize=(10, 5), dpi=300)\n",
    "\n",
    "plt.xticks(rotation=0)\n",
    "df['Стадия строительной готовности на дату договора'].value_counts(sort=True, ascending=True).plot.barh()\n",
    "# plt.savefig(f'Стадия строительной готовности на дату договора.jpg', bbox_inches = 'tight', dpi=300)"
   ]
  },
  {
   "cell_type": "code",
   "execution_count": null,
   "id": "3cfda91d",
   "metadata": {},
   "outputs": [],
   "source": [
    "figure(figsize=(4, 2), dpi=100)\n",
    "for i in ['Район',\n",
    "        'Класс', \n",
    "         'Тип сделки', 'Тип объекта', 'Тип продавца',\n",
    "       'Тип покупателя', 'Тип ипотеки', 'Участие объекта в оптовой сделке']:\n",
    "    plt.title(i)\n",
    "    plot = df[i].value_counts(sort=True, ascending=True).plot.bar()\n",
    "    \n",
    "    \n",
    "#     for bar in plot.patches:\n",
    "#         plot.annotate(format(bar.get_height(), '.2f'),\n",
    "#                        (bar.get_x() + bar.get_width() / 2,\n",
    "#                         bar.get_height()), ha='center', va='center',\n",
    "#                        size=5, xytext=(0, 3),\n",
    "#                        textcoords='offset points')\n",
    "    \n",
    "    plt.xticks(rotation=0)\n",
    "#     plt.savefig(f'{i}.jpg', bbox_inches = 'tight', dpi=300)\n",
    "#     print(plt.show())"
   ]
  },
  {
   "cell_type": "markdown",
   "id": "e7093f99",
   "metadata": {},
   "source": [
    "## Распределения"
   ]
  },
  {
   "cell_type": "code",
   "execution_count": null,
   "id": "e1524bc4",
   "metadata": {},
   "outputs": [],
   "source": [
    "df['Цена за кв. метр'].hist()\n",
    "# plt.savefig(f'Цена за кв. метр.jpg', bbox_inches = 'tight', dpi=300)"
   ]
  },
  {
   "cell_type": "code",
   "execution_count": null,
   "id": "db800512",
   "metadata": {},
   "outputs": [],
   "source": [
    "df['Площадь согласно ПД'].hist()\n",
    "# plt.savefig(f'Площадь.jpg', bbox_inches = 'tight', dpi=300)"
   ]
  },
  {
   "cell_type": "code",
   "execution_count": null,
   "id": "b1d50487",
   "metadata": {},
   "outputs": [],
   "source": [
    "df['Расстояние до метро'].hist()"
   ]
  },
  {
   "cell_type": "code",
   "execution_count": null,
   "id": "995b0188",
   "metadata": {},
   "outputs": [],
   "source": [
    "max(df['Расстояние до метро'])"
   ]
  },
  {
   "cell_type": "markdown",
   "id": "8410745e",
   "metadata": {},
   "source": [
    "## Выявление аномалий"
   ]
  },
  {
   "cell_type": "code",
   "execution_count": null,
   "id": "a7d622f9",
   "metadata": {},
   "outputs": [],
   "source": [
    "# # figure(figsize=(10, 5), dpi=300)\n",
    "# for i in df.columns:\n",
    "#     print(i)\n",
    "# #     figure(figsize=(10, 5), dpi=300)\n",
    "#     sns.boxplot(y=i, data=df)\n",
    "#     print(plt.show())"
   ]
  },
  {
   "cell_type": "markdown",
   "id": "cc86d8c0",
   "metadata": {},
   "source": [
    "## Transforming for ML"
   ]
  },
  {
   "cell_type": "code",
   "execution_count": null,
   "id": "4d61eef1",
   "metadata": {},
   "outputs": [],
   "source": [
    "label_dict = {}\n",
    "\n",
    "def label_encode(name):\n",
    "    df[name] = pd.Categorical(df[name])\n",
    "    d = dict(enumerate(df[name].cat.categories))\n",
    "    inverted_d = {v: k for k, v in d.items()}\n",
    "    print(name, inverted_d.keys())\n",
    "    df[name] = df[name].cat.codes\n",
    "    label_dict.update(inverted_d)"
   ]
  },
  {
   "cell_type": "code",
   "execution_count": null,
   "id": "f26694cb",
   "metadata": {},
   "outputs": [],
   "source": [
    "df.head(3)"
   ]
  },
  {
   "cell_type": "code",
   "execution_count": null,
   "id": "a12470c3",
   "metadata": {},
   "outputs": [],
   "source": [
    "# df.info()"
   ]
  },
  {
   "cell_type": "code",
   "execution_count": null,
   "id": "0b95b1a0",
   "metadata": {},
   "outputs": [],
   "source": [
    "label_encode('Район')\n",
    "label_encode('Тип сделки')\n",
    "label_encode('Тип объекта')\n",
    "label_encode('Метод определения цены')\n",
    "label_encode('Включение скидок/акций в ценообразование')\n",
    "label_encode('Тип продавца')\n",
    "label_encode('Тип покупателя')\n",
    "label_encode('Тип ипотеки')\n",
    "label_encode('Участие объекта в оптовой сделке')\n",
    "label_encode('Стадия строительной готовности на дату договора')\n",
    "label_encode('Класс')\n",
    "label_encode('Девелопер')\n",
    "label_encode('Отделка по корпусу')"
   ]
  },
  {
   "cell_type": "code",
   "execution_count": null,
   "id": "5a98de9c",
   "metadata": {},
   "outputs": [],
   "source": [
    "df['Количество комнат'] = df['Количество комнат'].replace('студия',0)\n",
    "df['Количество комнат'] = df['Количество комнат'].astype(str).astype(int)"
   ]
  },
  {
   "cell_type": "code",
   "execution_count": null,
   "id": "79ba0c91",
   "metadata": {},
   "outputs": [],
   "source": [
    "df = df.drop('Адрес корпуса', axis=1)"
   ]
  },
  {
   "cell_type": "code",
   "execution_count": null,
   "id": "62d7c54f",
   "metadata": {},
   "outputs": [],
   "source": [
    "# max может влиять на модель, проверить с min\n",
    "import re\n",
    "c = 0\n",
    "discounts = []\n",
    "df['Скидки по дате договора'] = df['Скидки по дате договора'].replace(float('nan'),'')\n",
    "for i in df['Скидки по дате договора']:\n",
    "    found = \"\".join(re.findall(r'Скидка \\d+%|Скидка до \\d+%',i))\n",
    "    if len(found) != 0:\n",
    "        max_discount = max([int(i) for i in re.findall('[0-9]+',found)])\n",
    "        discounts.append(max_discount)\n",
    "    else:\n",
    "        discounts.append(0)"
   ]
  },
  {
   "cell_type": "code",
   "execution_count": null,
   "id": "64d0b08c",
   "metadata": {},
   "outputs": [],
   "source": [
    "df['Скидки по дате договора'] = discounts"
   ]
  },
  {
   "cell_type": "code",
   "execution_count": null,
   "id": "6cf627b0",
   "metadata": {},
   "outputs": [],
   "source": [
    "# н/д в 0 может повлиять на модель!\n",
    "\n",
    "df['Срок в экспозиции до момента сделки, дней'] = df['Срок в экспозиции до момента сделки, дней'].replace('н/д', 0)\n",
    "df['Срок в экспозиции до момента сделки, дней'] = df['Срок в экспозиции до момента сделки, дней'].astype(str).astype(int)\n",
    "df['Срок в экспозиции до момента сделки, дней'] = df['Срок в экспозиции до момента сделки, дней'].abs()"
   ]
  },
  {
   "cell_type": "code",
   "execution_count": null,
   "id": "e8a9b003",
   "metadata": {},
   "outputs": [],
   "source": [
    "price = df['Рост цены за 1 кв.м за период экспонирования']\n",
    "price = [float(i.split('%')[0].replace(',','.')) if '%' in i else i for i in price]\n",
    "df['Рост цены за 1 кв.м за период экспонирования'] = price\n",
    "df['Рост цены за 1 кв.м за период экспонирования'] = df['Рост цены за 1 кв.м за период экспонирования'].replace('н/д', 0)"
   ]
  },
  {
   "cell_type": "code",
   "execution_count": null,
   "id": "2996068a",
   "metadata": {},
   "outputs": [],
   "source": [
    "df['Старт продаж'][0]"
   ]
  },
  {
   "cell_type": "code",
   "execution_count": null,
   "id": "763a91e3",
   "metadata": {},
   "outputs": [],
   "source": [
    "df['Заявленный срок ввода в эксплуатацию'][0]"
   ]
  },
  {
   "cell_type": "code",
   "execution_count": null,
   "id": "b24f79f7",
   "metadata": {},
   "outputs": [],
   "source": [
    "\n",
    "df.insert(4, 'Срок ввода в эксплуатацию - Старт продаж' ,(df['Заявленный срок ввода в эксплуатацию'] - df['Старт продаж']).dt.days)\n",
    "\n",
    "\n",
    "df.insert(8, 'Срок ввода в эксплуатацию - Договор' ,(df['Заявленный срок ввода в эксплуатацию']-df['Дата договора']).dt.days)\n",
    "\n",
    "\n",
    "df = df.drop(['Заявленный срок ввода в эксплуатацию','Дата договора', 'Старт продаж', 'Дата регистрации'], axis=1)"
   ]
  },
  {
   "cell_type": "code",
   "execution_count": null,
   "id": "1e3c742d",
   "metadata": {},
   "outputs": [],
   "source": [
    "df.to_excel('ml.xlsx')"
   ]
  },
  {
   "cell_type": "code",
   "execution_count": null,
   "id": "33399176",
   "metadata": {
    "tags": []
   },
   "outputs": [],
   "source": [
    "df['Срок в экспозиции до момента сделки, дней'].mean()"
   ]
  },
  {
   "cell_type": "code",
   "execution_count": null,
   "id": "7b151dff",
   "metadata": {
    "tags": []
   },
   "outputs": [],
   "source": [
    "df['Срок ввода в эксплуатацию - Старт продаж'].mean()"
   ]
  },
  {
   "cell_type": "code",
   "execution_count": null,
   "id": "18434516",
   "metadata": {
    "tags": []
   },
   "outputs": [],
   "source": [
    "df['Срок ввода в эксплуатацию - Договор'].mean()"
   ]
  },
  {
   "cell_type": "code",
   "execution_count": null,
   "id": "cf404764",
   "metadata": {
    "tags": []
   },
   "outputs": [],
   "source": [
    "df['Площадь согласно ПД'].mean()"
   ]
  },
  {
   "cell_type": "code",
   "execution_count": null,
   "id": "fc1e5ea3",
   "metadata": {
    "tags": []
   },
   "outputs": [],
   "source": [
    "df['Рост цены за 1 кв.м за период экспонирования'].mean()"
   ]
  },
  {
   "cell_type": "code",
   "execution_count": null,
   "id": "d4359305",
   "metadata": {
    "tags": []
   },
   "outputs": [],
   "source": [
    "import seaborn as sns\n",
    "import matplotlib.pyplot as plt\n",
    "cols = list(df.columns)\n",
    "cols.remove('Цена за кв. метр')\n",
    "fig, (ax1, ax2, ax3, ax4, ax5, ax6) = plt.subplots(nrows=1, ncols=6)\n",
    "\n",
    "ax1.violinplot(df['Район'], showmedians=True)\n",
    "ax2.violinplot(df['Девелопер'], showmedians=True)\n",
    "ax3.violinplot(df['Площадь согласно ПД'], showmedians=True)\n",
    "ax4.violinplot(df['Отделка по корпусу'], showmedians=True)\n",
    "ax5.violinplot(df['Класс'], showmedians=True)\n",
    "ax6.violinplot(df['Цена за кв. метр'], showmedians=True)\n",
    "\n",
    "\n",
    "plt.show()"
   ]
  },
  {
   "cell_type": "code",
   "execution_count": null,
   "id": "87ef16a2",
   "metadata": {},
   "outputs": [],
   "source": [
    "cor = df.corr()\n",
    "cor = cor[abs(cor) >= 0.5]\n",
    "cor = cor[cor != 1.0]\n",
    "cor.replace(np.nan,0,inplace=True)\n",
    "cor = cor.drop_duplicates()\n",
    "for col in cor.columns:\n",
    "    if len(set(list(cor[col].values))) == 1:\n",
    "        cor = cor.drop([col], axis=1)\n",
    "cor.replace(0,np.nan,inplace=True)"
   ]
  },
  {
   "cell_type": "code",
   "execution_count": null,
   "id": "b37404a1",
   "metadata": {
    "tags": []
   },
   "outputs": [],
   "source": [
    "sns.set(font_scale=2)\n",
    "sns.heatmap(cor, annot=True)\n",
    "plt.show()"
   ]
  }
 ],
 "metadata": {
  "direction": "ltr",
  "kernelspec": {
   "display_name": "Python 3",
   "language": "python",
   "name": "python3"
  },
  "language_info": {
   "codemirror_mode": {
    "name": "ipython",
    "version": 3
   },
   "file_extension": ".py",
   "mimetype": "text/x-python",
   "name": "python",
   "nbconvert_exporter": "python",
   "pygments_lexer": "ipython3",
   "version": "3.9.6"
  }
 },
 "nbformat": 4,
 "nbformat_minor": 5
}
