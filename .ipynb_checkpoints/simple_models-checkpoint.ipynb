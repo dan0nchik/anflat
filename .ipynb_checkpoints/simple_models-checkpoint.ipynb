{
 "cells": [
  {
   "cell_type": "code",
   "execution_count": null,
   "id": "47035092",
   "metadata": {
    "id": "eXBIM_FZLtci"
   },
   "outputs": [],
   "source": [
    "!pip install flaml[blendsearch]"
   ]
  },
  {
   "cell_type": "code",
   "execution_count": 73,
   "id": "a8450a34",
   "metadata": {
    "id": "b74eda0a"
   },
   "outputs": [],
   "source": [
    "from sklearn.linear_model import Ridge, Lasso\n",
    "from sklearn.model_selection import train_test_split\n",
    "from sklearn.model_selection import validation_curve\n",
    "import pandas as pd\n",
    "from flaml import tune\n",
    "import time\n",
    "from sklearn.metrics import mean_absolute_error, r2_score, mean_absolute_percentage_error\n",
    "import matplotlib.pyplot as plt\n",
    "import statsmodels.api as sm\n",
    "from scipy import stats\n",
    "from sklearn.tree import DecisionTreeRegressor\n",
    "import numpy as np"
   ]
  },
  {
   "cell_type": "code",
   "execution_count": 5,
   "id": "f714e505",
   "metadata": {
    "id": "0241f910"
   },
   "outputs": [],
   "source": [
    "new = pd.read_excel('ml.xlsx')"
   ]
  },
  {
   "cell_type": "code",
   "execution_count": 74,
   "id": "2243c6b1",
   "metadata": {
    "id": "-jTYeFovqbve"
   },
   "outputs": [],
   "source": [
    "df = new"
   ]
  },
  {
   "cell_type": "code",
   "execution_count": 75,
   "id": "c6ba3533",
   "metadata": {
    "colab": {
     "base_uri": "https://localhost:8080/",
     "height": 336
    },
    "id": "AAuGiOcfrHky",
    "outputId": "ad8fb38a-0bc5-4325-bd9f-777d5fa9cb8e"
   },
   "outputs": [
    {
     "data": {
      "text/html": [
       "<div>\n",
       "<style scoped>\n",
       "    .dataframe tbody tr th:only-of-type {\n",
       "        vertical-align: middle;\n",
       "    }\n",
       "\n",
       "    .dataframe tbody tr th {\n",
       "        vertical-align: top;\n",
       "    }\n",
       "\n",
       "    .dataframe thead th {\n",
       "        text-align: right;\n",
       "    }\n",
       "</style>\n",
       "<table border=\"1\" class=\"dataframe\">\n",
       "  <thead>\n",
       "    <tr style=\"text-align: right;\">\n",
       "      <th></th>\n",
       "      <th>Unnamed: 0</th>\n",
       "      <th>Район</th>\n",
       "      <th>Расстояние до метро</th>\n",
       "      <th>Стадия строительной готовности на дату договора</th>\n",
       "      <th>Срок ввода в эксплуатацию - Старт продаж</th>\n",
       "      <th>Класс</th>\n",
       "      <th>Девелопер</th>\n",
       "      <th>Срок ввода в эксплуатацию - Договор</th>\n",
       "      <th>Квартал договора</th>\n",
       "      <th>Тип сделки</th>\n",
       "      <th>...</th>\n",
       "      <th>Включение скидок/акций в ценообразование</th>\n",
       "      <th>Скидки по дате договора</th>\n",
       "      <th>Отделка по корпусу</th>\n",
       "      <th>Тип продавца</th>\n",
       "      <th>Тип покупателя</th>\n",
       "      <th>Кол-во покупателей</th>\n",
       "      <th>Тип ипотеки</th>\n",
       "      <th>Участие объекта в оптовой сделке</th>\n",
       "      <th>Срок в экспозиции до момента сделки, дней</th>\n",
       "      <th>Рост цены за 1 кв.м за период экспонирования</th>\n",
       "    </tr>\n",
       "  </thead>\n",
       "  <tbody>\n",
       "    <tr>\n",
       "      <th>0</th>\n",
       "      <td>0</td>\n",
       "      <td>0</td>\n",
       "      <td>15.10</td>\n",
       "      <td>5</td>\n",
       "      <td>1156</td>\n",
       "      <td>1</td>\n",
       "      <td>0</td>\n",
       "      <td>546</td>\n",
       "      <td>1</td>\n",
       "      <td>1</td>\n",
       "      <td>...</td>\n",
       "      <td>0</td>\n",
       "      <td>12</td>\n",
       "      <td>8</td>\n",
       "      <td>1</td>\n",
       "      <td>0</td>\n",
       "      <td>1</td>\n",
       "      <td>1</td>\n",
       "      <td>1</td>\n",
       "      <td>0</td>\n",
       "      <td>0.0</td>\n",
       "    </tr>\n",
       "    <tr>\n",
       "      <th>1</th>\n",
       "      <td>1</td>\n",
       "      <td>0</td>\n",
       "      <td>0.13</td>\n",
       "      <td>1</td>\n",
       "      <td>821</td>\n",
       "      <td>1</td>\n",
       "      <td>2</td>\n",
       "      <td>546</td>\n",
       "      <td>1</td>\n",
       "      <td>1</td>\n",
       "      <td>...</td>\n",
       "      <td>0</td>\n",
       "      <td>2</td>\n",
       "      <td>0</td>\n",
       "      <td>1</td>\n",
       "      <td>0</td>\n",
       "      <td>1</td>\n",
       "      <td>1</td>\n",
       "      <td>1</td>\n",
       "      <td>211</td>\n",
       "      <td>7.5</td>\n",
       "    </tr>\n",
       "    <tr>\n",
       "      <th>2</th>\n",
       "      <td>2</td>\n",
       "      <td>0</td>\n",
       "      <td>0.13</td>\n",
       "      <td>1</td>\n",
       "      <td>821</td>\n",
       "      <td>1</td>\n",
       "      <td>2</td>\n",
       "      <td>546</td>\n",
       "      <td>1</td>\n",
       "      <td>1</td>\n",
       "      <td>...</td>\n",
       "      <td>0</td>\n",
       "      <td>2</td>\n",
       "      <td>0</td>\n",
       "      <td>1</td>\n",
       "      <td>0</td>\n",
       "      <td>3</td>\n",
       "      <td>1</td>\n",
       "      <td>1</td>\n",
       "      <td>211</td>\n",
       "      <td>16.3</td>\n",
       "    </tr>\n",
       "    <tr>\n",
       "      <th>3</th>\n",
       "      <td>4</td>\n",
       "      <td>0</td>\n",
       "      <td>0.54</td>\n",
       "      <td>1</td>\n",
       "      <td>789</td>\n",
       "      <td>1</td>\n",
       "      <td>14</td>\n",
       "      <td>453</td>\n",
       "      <td>1</td>\n",
       "      <td>1</td>\n",
       "      <td>...</td>\n",
       "      <td>0</td>\n",
       "      <td>2</td>\n",
       "      <td>8</td>\n",
       "      <td>1</td>\n",
       "      <td>0</td>\n",
       "      <td>1</td>\n",
       "      <td>1</td>\n",
       "      <td>1</td>\n",
       "      <td>275</td>\n",
       "      <td>15.0</td>\n",
       "    </tr>\n",
       "    <tr>\n",
       "      <th>4</th>\n",
       "      <td>5</td>\n",
       "      <td>0</td>\n",
       "      <td>0.59</td>\n",
       "      <td>1</td>\n",
       "      <td>789</td>\n",
       "      <td>1</td>\n",
       "      <td>14</td>\n",
       "      <td>453</td>\n",
       "      <td>1</td>\n",
       "      <td>1</td>\n",
       "      <td>...</td>\n",
       "      <td>0</td>\n",
       "      <td>2</td>\n",
       "      <td>8</td>\n",
       "      <td>1</td>\n",
       "      <td>0</td>\n",
       "      <td>2</td>\n",
       "      <td>0</td>\n",
       "      <td>1</td>\n",
       "      <td>0</td>\n",
       "      <td>0.0</td>\n",
       "    </tr>\n",
       "  </tbody>\n",
       "</table>\n",
       "<p>5 rows × 28 columns</p>\n",
       "</div>"
      ],
      "text/plain": [
       "   Unnamed: 0  Район  Расстояние до метро  \\\n",
       "0           0      0                15.10   \n",
       "1           1      0                 0.13   \n",
       "2           2      0                 0.13   \n",
       "3           4      0                 0.54   \n",
       "4           5      0                 0.59   \n",
       "\n",
       "   Стадия строительной готовности на дату договора  \\\n",
       "0                                                5   \n",
       "1                                                1   \n",
       "2                                                1   \n",
       "3                                                1   \n",
       "4                                                1   \n",
       "\n",
       "   Срок ввода в эксплуатацию - Старт продаж  Класс  Девелопер  \\\n",
       "0                                      1156      1          0   \n",
       "1                                       821      1          2   \n",
       "2                                       821      1          2   \n",
       "3                                       789      1         14   \n",
       "4                                       789      1         14   \n",
       "\n",
       "   Срок ввода в эксплуатацию - Договор  Квартал договора  Тип сделки  ...  \\\n",
       "0                                  546                 1           1  ...   \n",
       "1                                  546                 1           1  ...   \n",
       "2                                  546                 1           1  ...   \n",
       "3                                  453                 1           1  ...   \n",
       "4                                  453                 1           1  ...   \n",
       "\n",
       "   Включение скидок/акций в ценообразование  Скидки по дате договора  \\\n",
       "0                                         0                       12   \n",
       "1                                         0                        2   \n",
       "2                                         0                        2   \n",
       "3                                         0                        2   \n",
       "4                                         0                        2   \n",
       "\n",
       "   Отделка по корпусу  Тип продавца  Тип покупателя  Кол-во покупателей  \\\n",
       "0                   8             1               0                   1   \n",
       "1                   0             1               0                   1   \n",
       "2                   0             1               0                   3   \n",
       "3                   8             1               0                   1   \n",
       "4                   8             1               0                   2   \n",
       "\n",
       "   Тип ипотеки  Участие объекта в оптовой сделке  \\\n",
       "0            1                                 1   \n",
       "1            1                                 1   \n",
       "2            1                                 1   \n",
       "3            1                                 1   \n",
       "4            0                                 1   \n",
       "\n",
       "   Срок в экспозиции до момента сделки, дней  \\\n",
       "0                                          0   \n",
       "1                                        211   \n",
       "2                                        211   \n",
       "3                                        275   \n",
       "4                                          0   \n",
       "\n",
       "   Рост цены за 1 кв.м за период экспонирования  \n",
       "0                                           0.0  \n",
       "1                                           7.5  \n",
       "2                                          16.3  \n",
       "3                                          15.0  \n",
       "4                                           0.0  \n",
       "\n",
       "[5 rows x 28 columns]"
      ]
     },
     "execution_count": 75,
     "metadata": {},
     "output_type": "execute_result"
    }
   ],
   "source": [
    "df.head()"
   ]
  },
  {
   "cell_type": "code",
   "execution_count": 77,
   "id": "87534360",
   "metadata": {},
   "outputs": [
    {
     "data": {
      "text/plain": [
       "<matplotlib.collections.PathCollection at 0x151b91fd0>"
      ]
     },
     "execution_count": 77,
     "metadata": {},
     "output_type": "execute_result"
    },
    {
     "data": {
      "image/png": "[encoded data removed]",
      "text/plain": [
       "<Figure size 432x288 with 1 Axes>"
      ]
     },
     "metadata": {
      "needs_background": "light"
     },
     "output_type": "display_data"
    }
   ],
   "source": [
    "from sklearn.preprocessing import MinMaxScaler, StandardScaler\n",
    "scaler = StandardScaler()\n",
    "scaled = scaler.fit_transform(df[['Цена за кв. метр']])\n",
    "scaled1 = scaler.fit_transform(df[['Площадь согласно ПД']])\n",
    "scaler = MinMaxScaler()\n",
    "scaled = scaler.fit_transform(scaled)\n",
    "scaled1 = scaler.fit_transform(scaled1)\n",
    "s = [n**0.01 for n in range(len(df))]\n",
    "plt.scatter(scaled1, scaled, s=s)"
   ]
  },
  {
   "cell_type": "code",
   "execution_count": 153,
   "id": "a940c87a",
   "metadata": {},
   "outputs": [
    {
     "data": {
      "text/plain": [
       "<Figure size 400x200 with 0 Axes>"
      ]
     },
     "metadata": {},
     "output_type": "display_data"
    },
    {
     "data": {
      "image/png": "[encoded data removed]",
      "text/plain": [
       "<Figure size 432x288 with 1 Axes>"
      ]
     },
     "metadata": {
      "needs_background": "light"
     },
     "output_type": "display_data"
    },
    {
     "name": "stdout",
     "output_type": "stream",
     "text": [
      "None\n"
     ]
    }
   ],
   "source": [
    "from sklearn.preprocessing import MinMaxScaler, StandardScaler\n",
    "import numpy.polynomial.polynomial as poly\n",
    "from scipy.optimize import curve_fit\n",
    "from matplotlib.pyplot import figure\n",
    "figure(figsize=(4, 2), dpi=100)\n",
    "\n",
    "clas=1\n",
    "def objective(x, a, b, c):\n",
    "    return -a * x + b * x**2 + c\n",
    "# df['Срок в экспозиции до момента сделки, дней']\n",
    "s = [n**0.1 for n in range(len(df[df['Класс']==clas]))]\n",
    "x = df[df['Класс']==clas]['Срок в экспозиции до момента сделки, дней']\n",
    "y = df[df['Класс']==clas]['Цена за кв. метр']\n",
    "\n",
    "popt, _ = curve_fit(objective, x, y)\n",
    "\n",
    "a, b, c = popt\n",
    "fit_equation = a * np.square(x) + b * x + c\n",
    "fig1 = plt.figure()\n",
    "ax1 = fig1.subplots()\n",
    "ax1.scatter(x, y, s=s)\n",
    "ax1.scatter(x, fit_equation, color = 'r')\n",
    "ax1.set_title('Polynomial fit example')\n",
    "plt.xlim(0, len(df[df['Класс']==clas]))\n",
    "plt.ylim(0, len(df[df['Класс']==clas]))\n",
    "print(plt.show())"
   ]
  },
  {
   "cell_type": "code",
   "execution_count": 54,
   "id": "b67cc863",
   "metadata": {},
   "outputs": [
    {
     "data": {
      "text/plain": [
       "210100.0    3\n",
       "259200.0    3\n",
       "209200.0    3\n",
       "227459.0    3\n",
       "175000.0    3\n",
       "           ..\n",
       "223300.0    1\n",
       "229200.0    1\n",
       "199000.0    1\n",
       "239700.0    1\n",
       "213600.0    1\n",
       "Name: Цена за кв. метр, Length: 85, dtype: int64"
      ]
     },
     "execution_count": 54,
     "metadata": {},
     "output_type": "execute_result"
    }
   ],
   "source": [
    "df[df['Площадь согласно ПД']==20]['Цена за кв. метр'].value_counts()scatter"
   ]
  },
  {
   "cell_type": "code",
   "execution_count": 8,
   "id": "1d58e297",
   "metadata": {
    "id": "2a56fbf4"
   },
   "outputs": [],
   "source": [
    "[['Этаж', 'Площадь согласно ПД', 'Район', 'Класс', 'Расстояние до метро', 'Девелопер']]\n",
    "y = df['Цена за кв. метр']\n",
    "X = df\n",
    "X_train, X_test, y_train, y_test = train_test_split(X, y, test_size=0.33, random_state=42)"
   ]
  },
  {
   "cell_type": "code",
   "execution_count": 9,
   "id": "9d123ba0",
   "metadata": {
    "colab": {
     "base_uri": "https://localhost:8080/"
    },
    "id": "UilCi4g6r4Gx",
    "outputId": "0734cbab-ad74-4611-f9d8-e5771c172756"
   },
   "outputs": [
    {
     "data": {
      "text/plain": [
       "17172    116000.00\n",
       "50450    154933.00\n",
       "56014    151851.88\n",
       "33315    146030.00\n",
       "49560    189414.84\n",
       "           ...    \n",
       "54343    144488.50\n",
       "38158     85472.00\n",
       "860      105969.98\n",
       "15795    136900.00\n",
       "56422    220667.93\n",
       "Name: Цена за кв. метр, Length: 39761, dtype: float64"
      ]
     },
     "execution_count": 9,
     "metadata": {},
     "output_type": "execute_result"
    }
   ],
   "source": [
    "y_train"
   ]
  },
  {
   "cell_type": "code",
   "execution_count": 10,
   "id": "405d2df2",
   "metadata": {
    "id": "S6RwENgsS4f6"
   },
   "outputs": [],
   "source": [
    "# !pip install flaml[blendsearch]\n",
    "# !pip install ray\n",
    "# !pip install -U tensorboardx"
   ]
  },
  {
   "cell_type": "code",
   "execution_count": 11,
   "id": "e6ab968c",
   "metadata": {
    "id": "02425c82"
   },
   "outputs": [],
   "source": [
    "def train(algo, config, start):\n",
    "\n",
    "    def evaluate_config(config):\n",
    "      algo.set_params(**config)\n",
    "      algo.fit(X_train, y_train)\n",
    "      y_pred = algo.predict(X_test)\n",
    "      tune.report(metric=mean_absolute_error(y_test, y_pred))\n",
    "\n",
    "    analysis = tune.run(\n",
    "      evaluate_config,   \n",
    "      config=config, \n",
    "      low_cost_partial_config = start,\n",
    "      mode='min', \n",
    "      metric='metric',        \n",
    "      num_samples=-1,    \n",
    "      time_budget_s=450,  \n",
    "      verbose=0,\n",
    "      # use_ray=True \n",
    "      )\n",
    "\n",
    "    print(analysis.best_trial.last_result['metric'])  # the best trial's result\n",
    "    print(analysis.best_config) # the best config\n"
   ]
  },
  {
   "cell_type": "code",
   "execution_count": 12,
   "id": "d500372c",
   "metadata": {
    "id": "o7z9eNazUPkg"
   },
   "outputs": [],
   "source": [
    "ridge={ 'alpha': tune.quniform(0.0001, 1, 0.0000001),\n",
    "        'tol': tune.qloguniform(1e-10, 1e-1, 1e-10),\n",
    "        'solver': tune.choice({'auto', 'svd', 'cholesky', 'lsqr', 'sparse_cg', 'sag', 'saga'})\n",
    "    }\n",
    "lasso={ 'alpha': tune.quniform(0.001, 1, 0.0001),\n",
    "        'tol': tune.choice([1e-4, 1e-5, 1e-6, 1e-3, 1e-2]),\n",
    "       'max_iter': tune.choice([1e6])\n",
    "    }\n",
    "tree = {\n",
    "    'criterion': tune.choice(['squared_error', 'friedman_mse', 'absolute_error', 'poisson']),\n",
    "    'splitter': tune.choice(['best', 'random']),\n",
    "    'max_depth': tune.randint(10, 100),\n",
    "    'min_samples_split': tune.randint(2, 5),\n",
    "    'min_samples_leaf': tune.randint(2, 5),\n",
    "    'max_features': tune.choice(['auto', 'sqrt', 'log2']),\n",
    "    'random_state': tune.choice([42, None])\n",
    "}\n",
    "# train(DecisionTreeRegressor(), tree, {'splitter': 'best'})"
   ]
  },
  {
   "cell_type": "code",
   "execution_count": 13,
   "id": "4a935bf1",
   "metadata": {
    "colab": {
     "base_uri": "https://localhost:8080/",
     "height": 299
    },
    "id": "5HDxmaQIdRFS",
    "outputId": "53405eae-8bb4-44e6-808e-10d82ffd732d"
   },
   "outputs": [
    {
     "name": "stdout",
     "output_type": "stream",
     "text": [
      "0.9999835990868878\n",
      "5.7441378404616866e-05\n"
     ]
    },
    {
     "data": {
      "image/png": "[encoded data removed]",
      "text/plain": [
       "<Figure size 576x288 with 1 Axes>"
      ]
     },
     "metadata": {
      "needs_background": "light"
     },
     "output_type": "display_data"
    }
   ],
   "source": [
    "# reg = Lasso(**{'alpha': 0.001, 'tol': 0.01, 'max_iter': 1000000.0})\n",
    "# 0.62 \n",
    "reg = DecisionTreeRegressor()\n",
    "# # 0.99 reg=DecisionTreeRegressor(**{'criterion': 'absolute_error', 'splitter': 'best', 'max_depth': 21, 'min_samples_split': 2, 'min_samples_leaf': 2, 'max_features': 'auto', 'random_state': None})\n",
    "# reg=DecisionTreeRegressor(**{'criterion': 'absolute_error', 'splitter': 'best', 'max_depth': 25, 'min_samples_split': 2, 'min_samples_leaf': 2, 'max_features': 'auto', 'random_state': 42})\n",
    "reg.fit(X_train, y_train)\n",
    "y_pred = reg.predict(X_test)\n",
    "print(r2_score(y_test, y_pred))\n",
    "print(mean_absolute_percentage_error(y_test, y_pred))\n",
    "fig, ax = plt.subplots(figsize=(8, 4))\n",
    "ax.scatter(X_test['Площадь согласно ПД'], y_test, edgecolor='k', facecolor='grey', alpha=0.7, label='Sample data')\n",
    "ax.scatter(X_test['Площадь согласно ПД'], y_pred, color='r', label='Regression model')\n",
    "plt.show()"
   ]
  },
  {
   "cell_type": "code",
   "execution_count": 14,
   "id": "a5d87f6c",
   "metadata": {
    "colab": {
     "base_uri": "https://localhost:8080/"
    },
    "id": "jSHPHTMzl5Sg",
    "outputId": "b61b8b0d-edd8-4a01-b905-7cfece69cea5"
   },
   "outputs": [
    {
     "name": "stdout",
     "output_type": "stream",
     "text": [
      "                            OLS Regression Results                            \n",
      "==============================================================================\n",
      "Dep. Variable:       Цена за кв. метр   R-squared:                       1.000\n",
      "Model:                            OLS   Adj. R-squared:                  1.000\n",
      "Method:                 Least Squares   F-statistic:                 5.506e+32\n",
      "Date:                Fri, 17 Dec 2021   Prob (F-statistic):               0.00\n",
      "Time:                        19:23:07   Log-Likelihood:             1.3039e+06\n",
      "No. Observations:               59346   AIC:                        -2.608e+06\n",
      "Df Residuals:                   59317   BIC:                        -2.607e+06\n",
      "Df Model:                          28                                         \n",
      "Covariance Type:            nonrobust                                         \n",
      "===================================================================================================================\n",
      "                                                      coef    std err          t      P>|t|      [0.025      0.975]\n",
      "-------------------------------------------------------------------------------------------------------------------\n",
      "const                                           -2.483e-10   5.82e-12    -42.679      0.000    -2.6e-10   -2.37e-10\n",
      "Unnamed: 0                                       6.073e-16    2.6e-17     23.393      0.000    5.56e-16    6.58e-16\n",
      "Район                                            3.013e-11    4.1e-12      7.349      0.000    2.21e-11    3.82e-11\n",
      "Расстояние до метро                             -4.974e-14   1.11e-13     -0.449      0.654   -2.67e-13    1.68e-13\n",
      "Стадия строительной готовности на дату договора -1.806e-12   2.93e-13     -6.166      0.000   -2.38e-12   -1.23e-12\n",
      "Срок ввода в эксплуатацию - Старт продаж        -2.304e-15   1.94e-15     -1.185      0.236   -6.12e-15    1.51e-15\n",
      "Класс                                            2.377e-11    1.1e-12     21.524      0.000    2.16e-11    2.59e-11\n",
      "Девелопер                                        1.365e-12   8.01e-14     17.045      0.000    1.21e-12    1.52e-12\n",
      "Срок ввода в эксплуатацию - Договор              1.339e-14   1.95e-15      6.862      0.000    9.57e-15    1.72e-14\n",
      "Квартал договора                                 2.812e-11   3.47e-13     81.064      0.000    2.74e-11    2.88e-11\n",
      "Тип сделки                                      -5.983e-12   1.15e-12     -5.201      0.000   -8.24e-12   -3.73e-12\n",
      "Квартал регистрации                              9.519e-12   3.54e-13     26.924      0.000    8.83e-12    1.02e-11\n",
      "Тип объекта                                      3.547e-11   3.26e-12     10.895      0.000    2.91e-11    4.19e-11\n",
      "Секция                                           2.794e-13    8.5e-14      3.287      0.001    1.13e-13    4.46e-13\n",
      "Этаж                                             -6.87e-13    6.2e-14    -11.084      0.000   -8.08e-13   -5.66e-13\n",
      "Количество комнат                                6.029e-12    9.2e-13      6.553      0.000    4.23e-12    7.83e-12\n",
      "Площадь согласно ПД                              5.617e-13   4.84e-14     11.602      0.000    4.67e-13    6.57e-13\n",
      "Цена за кв. метр                                    1.0000    1.6e-17   6.24e+16      0.000       1.000       1.000\n",
      "Метод определения цены                          -1.675e-12   4.77e-13     -3.515      0.000   -2.61e-12   -7.41e-13\n",
      "Включение скидок/акций в ценообразование        -8.534e-12   4.01e-13    -21.258      0.000   -9.32e-12   -7.75e-12\n",
      "Скидки по дате договора                          2.456e-13   5.12e-14      4.793      0.000    1.45e-13    3.46e-13\n",
      "Отделка по корпусу                               3.006e-13   9.55e-14      3.147      0.002    1.13e-13    4.88e-13\n",
      "Тип продавца                                     1.154e-11   1.75e-12      6.600      0.000    8.11e-12     1.5e-11\n",
      "Тип покупателя                                  -6.887e-12   2.89e-12     -2.385      0.017   -1.25e-11   -1.23e-12\n",
      "Кол-во покупателей                               1.453e-12   4.76e-13      3.054      0.002    5.21e-13    2.39e-12\n",
      "Тип ипотеки                                      8.622e-12   6.16e-13     13.999      0.000    7.42e-12    9.83e-12\n",
      "Участие объекта в оптовой сделке                -1.861e-11   2.43e-12     -7.648      0.000   -2.34e-11   -1.38e-11\n",
      "Срок в экспозиции до момента сделки, дней        5.447e-15   2.93e-15      1.857      0.063   -3.01e-16    1.12e-14\n",
      "Рост цены за 1 кв.м за период экспонирования     4.287e-13    4.2e-14     10.206      0.000    3.46e-13    5.11e-13\n",
      "==============================================================================\n",
      "Omnibus:                      684.235   Durbin-Watson:                   0.264\n",
      "Prob(Omnibus):                  0.000   Jarque-Bera (JB):              450.267\n",
      "Skew:                          -0.074   Prob(JB):                     1.68e-98\n",
      "Kurtosis:                       2.600   Cond. No.                     3.42e+06\n",
      "==============================================================================\n",
      "\n",
      "Notes:\n",
      "[1] Standard Errors assume that the covariance matrix of the errors is correctly specified.\n",
      "[2] The condition number is large, 3.42e+06. This might indicate that there are\n",
      "strong multicollinearity or other numerical problems.\n"
     ]
    }
   ],
   "source": [
    "X2 = sm.add_constant(X)\n",
    "est = sm.OLS(y, X2)\n",
    "est2 = est.fit()\n",
    "print(est2.summary())"
   ]
  },
  {
   "cell_type": "code",
   "execution_count": null,
   "id": "8399483c",
   "metadata": {
    "id": "p_Y8cizDqCWk"
   },
   "outputs": [],
   "source": [
    "\n"
   ]
  },
  {
   "cell_type": "code",
   "execution_count": null,
   "id": "ce8674e5",
   "metadata": {
    "id": "IF_1ZQMqp14-"
   },
   "outputs": [],
   "source": []
  }
 ],
 "metadata": {
  "colab": {
   "collapsed_sections": [],
   "name": "simple_models.ipynb",
   "provenance": []
  },
  "kernelspec": {
   "display_name": "Python 3",
   "language": "python",
   "name": "python3"
  },
  "language_info": {
   "codemirror_mode": {
    "name": "ipython",
    "version": 3
   },
   "file_extension": ".py",
   "mimetype": "text/x-python",
   "name": "python",
   "nbconvert_exporter": "python",
   "pygments_lexer": "ipython3",
   "version": "3.9.6"
  }
 },
 "nbformat": 4,
 "nbformat_minor": 5
}
