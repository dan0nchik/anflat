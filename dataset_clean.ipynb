{
 "cells": [
  {
   "cell_type": "markdown",
   "id": "80215023",
   "metadata": {
    "direction": "ltr"
   },
   "source": [
    "# Cleaning"
   ]
  },
  {
   "cell_type": "code",
   "execution_count": 68,
   "id": "fe4dcbc4",
   "metadata": {},
   "outputs": [],
   "source": [
    "import pandas as pd\n",
    "import numpy as np\n",
    "import seaborn as sns\n",
    "pd.set_option('display.max_columns', None)\n",
    "%config Completer.use_jedi = True\n",
    "%matplotlib inline\n",
    "# sns.set(rc={'figure.figsize':(10,10)})\n",
    "from sklearn.impute import SimpleImputer\n",
    "from matplotlib.pyplot import figure"
   ]
  },
  {
   "cell_type": "code",
   "execution_count": 69,
   "id": "a171f522",
   "metadata": {},
   "outputs": [],
   "source": [
    "untouched_df = pd.read_excel('data.xlsx')\n",
    "metro_untouched = pd.read_excel('adressesV7.xlsx')"
   ]
  },
  {
   "cell_type": "code",
   "execution_count": 70,
   "id": "de045225",
   "metadata": {},
   "outputs": [
    {
     "name": "stdout",
     "output_type": "stream",
     "text": [
      "INITIAL LENGTH 64678\n"
     ]
    }
   ],
   "source": [
    "df = untouched_df\n",
    "metro = metro_untouched\n",
    "print('INITIAL LENGTH', len(df))"
   ]
  },
  {
   "cell_type": "code",
   "execution_count": 71,
   "id": "530319ae",
   "metadata": {},
   "outputs": [
    {
     "data": {
      "text/html": [
       "<div>\n",
       "<style scoped>\n",
       "    .dataframe tbody tr th:only-of-type {\n",
       "        vertical-align: middle;\n",
       "    }\n",
       "\n",
       "    .dataframe tbody tr th {\n",
       "        vertical-align: top;\n",
       "    }\n",
       "\n",
       "    .dataframe thead th {\n",
       "        text-align: right;\n",
       "    }\n",
       "</style>\n",
       "<table border=\"1\" class=\"dataframe\">\n",
       "  <thead>\n",
       "    <tr style=\"text-align: right;\">\n",
       "      <th></th>\n",
       "      <th>ID проекта</th>\n",
       "      <th>ID корпуса</th>\n",
       "      <th>Проект</th>\n",
       "      <th>Локация</th>\n",
       "      <th>Округ</th>\n",
       "      <th>Район</th>\n",
       "      <th>Адрес корпуса</th>\n",
       "      <th>Стадия строительной готовности на дату договора</th>\n",
       "      <th>Заявленный срок ввода в эксплуатацию</th>\n",
       "      <th>Старт продаж</th>\n",
       "      <th>Класс</th>\n",
       "      <th>Девелопер</th>\n",
       "      <th>Дата договора</th>\n",
       "      <th>Месяц и год даты договора</th>\n",
       "      <th>Квартал и год договора</th>\n",
       "      <th>Год договора</th>\n",
       "      <th>Дата регистрации</th>\n",
       "      <th>Месяц и год даты регистрации</th>\n",
       "      <th>Квартал и год регистрации</th>\n",
       "      <th>Год регистрации</th>\n",
       "      <th>Тип сделки</th>\n",
       "      <th>ID лота</th>\n",
       "      <th>Тип объекта</th>\n",
       "      <th>Секция</th>\n",
       "      <th>Этаж</th>\n",
       "      <th>Количество комнат в прайс-листе, типология bnmap.pro</th>\n",
       "      <th>Площадь согласно ПД</th>\n",
       "      <th>Цена за кв. метр</th>\n",
       "      <th>Метод определения цены</th>\n",
       "      <th>Расчетный бюджет объекта</th>\n",
       "      <th>Включение скидок/акций в ценообразование</th>\n",
       "      <th>Скидки по дате договора</th>\n",
       "      <th>Отделка по корпусу</th>\n",
       "      <th>Тип продавца</th>\n",
       "      <th>Тип покупателя</th>\n",
       "      <th>Кол-во покупателей</th>\n",
       "      <th>Тип ипотеки</th>\n",
       "      <th>Кол-во месяцев обременения</th>\n",
       "      <th>Участие объекта в оптовой сделке</th>\n",
       "      <th>Срок в экспозиции до момента сделки, дней</th>\n",
       "      <th>Рост цены за 1 кв.м за период экспонирования</th>\n",
       "      <th>Рост бюджета покупки за период экспонирования</th>\n",
       "    </tr>\n",
       "  </thead>\n",
       "  <tbody>\n",
       "    <tr>\n",
       "      <th>0</th>\n",
       "      <td>9a80461dd54fbcef2ac42a6b78af0c3a</td>\n",
       "      <td>2a3a5563a920d27ca7d1acbf4afa87bd</td>\n",
       "      <td>Баркли Медовая Долина</td>\n",
       "      <td>Новая Москва</td>\n",
       "      <td>НАО</td>\n",
       "      <td>НАО</td>\n",
       "      <td>Крекшино, д. 9 (3 оч.)</td>\n",
       "      <td>Строительство не начато</td>\n",
       "      <td>2020-06-30</td>\n",
       "      <td>2017-05-01</td>\n",
       "      <td>Комфорт</td>\n",
       "      <td>Barkli</td>\n",
       "      <td>2019-01-01</td>\n",
       "      <td>1.2019</td>\n",
       "      <td>1кв. 2019</td>\n",
       "      <td>2019</td>\n",
       "      <td>2019-02-18</td>\n",
       "      <td>2019-02-01</td>\n",
       "      <td>1кв. 2019</td>\n",
       "      <td>2019</td>\n",
       "      <td>Договор участия</td>\n",
       "      <td>efad7e1a12462258b1111dc006cb76e5</td>\n",
       "      <td>квартира</td>\n",
       "      <td>NaN</td>\n",
       "      <td>5</td>\n",
       "      <td>ст</td>\n",
       "      <td>27.43</td>\n",
       "      <td>95325.34</td>\n",
       "      <td>Прайс совпадение площади</td>\n",
       "      <td>2.614774e+06</td>\n",
       "      <td>без скидки</td>\n",
       "      <td>Скидка 12% на ограниченный пул квартир. Скидка...</td>\n",
       "      <td>С отделкой</td>\n",
       "      <td>ЮЛ</td>\n",
       "      <td>ФЛ</td>\n",
       "      <td>1</td>\n",
       "      <td>Нет</td>\n",
       "      <td>NaN</td>\n",
       "      <td>Нет</td>\n",
       "      <td>н/д</td>\n",
       "      <td>н/д</td>\n",
       "      <td>н/д</td>\n",
       "    </tr>\n",
       "    <tr>\n",
       "      <th>1</th>\n",
       "      <td>c995291bb13726dbaf1e579cea7680c3</td>\n",
       "      <td>ac46a131b160a231a148cda32fe3cdee</td>\n",
       "      <td>Румянцево-Парк</td>\n",
       "      <td>Новая Москва</td>\n",
       "      <td>НАО</td>\n",
       "      <td>НАО</td>\n",
       "      <td>Московский п., в районе Румянцево дер., уч. 17...</td>\n",
       "      <td>Монтажные и отделочные работы</td>\n",
       "      <td>2020-06-30</td>\n",
       "      <td>2018-04-01</td>\n",
       "      <td>Комфорт</td>\n",
       "      <td>Lexion Development</td>\n",
       "      <td>2019-01-01</td>\n",
       "      <td>1.2019</td>\n",
       "      <td>1кв. 2019</td>\n",
       "      <td>2019</td>\n",
       "      <td>2019-05-08</td>\n",
       "      <td>2019-05-01</td>\n",
       "      <td>2кв. 2019</td>\n",
       "      <td>2019</td>\n",
       "      <td>Договор участия</td>\n",
       "      <td>8049f8214898fdf4ba8991e54d880a18</td>\n",
       "      <td>квартира</td>\n",
       "      <td>4.0</td>\n",
       "      <td>11</td>\n",
       "      <td>2</td>\n",
       "      <td>62.60</td>\n",
       "      <td>114000.00</td>\n",
       "      <td>Прайс совпадение площади</td>\n",
       "      <td>7.136400e+06</td>\n",
       "      <td>без скидки</td>\n",
       "      <td>Скидка 2% при 100% оплате или ипотеке. При еди...</td>\n",
       "      <td>Без отделки</td>\n",
       "      <td>ЮЛ</td>\n",
       "      <td>ФЛ</td>\n",
       "      <td>1</td>\n",
       "      <td>Нет</td>\n",
       "      <td>NaN</td>\n",
       "      <td>Нет</td>\n",
       "      <td>211</td>\n",
       "      <td>7,5%</td>\n",
       "      <td>7,5%</td>\n",
       "    </tr>\n",
       "    <tr>\n",
       "      <th>2</th>\n",
       "      <td>c995291bb13726dbaf1e579cea7680c3</td>\n",
       "      <td>ac46a131b160a231a148cda32fe3cdee</td>\n",
       "      <td>Румянцево-Парк</td>\n",
       "      <td>Новая Москва</td>\n",
       "      <td>НАО</td>\n",
       "      <td>НАО</td>\n",
       "      <td>Московский п., в районе Румянцево дер., уч. 17...</td>\n",
       "      <td>Монтажные и отделочные работы</td>\n",
       "      <td>2020-06-30</td>\n",
       "      <td>2018-04-01</td>\n",
       "      <td>Комфорт</td>\n",
       "      <td>Lexion Development</td>\n",
       "      <td>2019-01-01</td>\n",
       "      <td>1.2019</td>\n",
       "      <td>1кв. 2019</td>\n",
       "      <td>2019</td>\n",
       "      <td>2019-05-08</td>\n",
       "      <td>2019-05-01</td>\n",
       "      <td>2кв. 2019</td>\n",
       "      <td>2019</td>\n",
       "      <td>Договор участия</td>\n",
       "      <td>b4aaa625763725a4ce03aa28b607df2f</td>\n",
       "      <td>квартира</td>\n",
       "      <td>13.0</td>\n",
       "      <td>22</td>\n",
       "      <td>ст</td>\n",
       "      <td>24.10</td>\n",
       "      <td>143000.00</td>\n",
       "      <td>Прайс совпадение площади</td>\n",
       "      <td>3.446300e+06</td>\n",
       "      <td>без скидки</td>\n",
       "      <td>Скидка 2% при 100% оплате или ипотеке. При еди...</td>\n",
       "      <td>Без отделки</td>\n",
       "      <td>ЮЛ</td>\n",
       "      <td>ФЛ</td>\n",
       "      <td>3</td>\n",
       "      <td>Нет</td>\n",
       "      <td>NaN</td>\n",
       "      <td>Нет</td>\n",
       "      <td>211</td>\n",
       "      <td>16,3%</td>\n",
       "      <td>16,3%</td>\n",
       "    </tr>\n",
       "  </tbody>\n",
       "</table>\n",
       "</div>"
      ],
      "text/plain": [
       "                         ID проекта                        ID корпуса  \\\n",
       "0  9a80461dd54fbcef2ac42a6b78af0c3a  2a3a5563a920d27ca7d1acbf4afa87bd   \n",
       "1  c995291bb13726dbaf1e579cea7680c3  ac46a131b160a231a148cda32fe3cdee   \n",
       "2  c995291bb13726dbaf1e579cea7680c3  ac46a131b160a231a148cda32fe3cdee   \n",
       "\n",
       "                  Проект       Локация Округ Район  \\\n",
       "0  Баркли Медовая Долина  Новая Москва   НАО   НАО   \n",
       "1         Румянцево-Парк  Новая Москва   НАО   НАО   \n",
       "2         Румянцево-Парк  Новая Москва   НАО   НАО   \n",
       "\n",
       "                                       Адрес корпуса  \\\n",
       "0                             Крекшино, д. 9 (3 оч.)   \n",
       "1  Московский п., в районе Румянцево дер., уч. 17...   \n",
       "2  Московский п., в районе Румянцево дер., уч. 17...   \n",
       "\n",
       "  Стадия строительной готовности на дату договора  \\\n",
       "0                         Строительство не начато   \n",
       "1                   Монтажные и отделочные работы   \n",
       "2                   Монтажные и отделочные работы   \n",
       "\n",
       "  Заявленный срок ввода в эксплуатацию Старт продаж    Класс  \\\n",
       "0                           2020-06-30   2017-05-01  Комфорт   \n",
       "1                           2020-06-30   2018-04-01  Комфорт   \n",
       "2                           2020-06-30   2018-04-01  Комфорт   \n",
       "\n",
       "            Девелопер Дата договора  Месяц и год даты договора  \\\n",
       "0              Barkli    2019-01-01                     1.2019   \n",
       "1  Lexion Development    2019-01-01                     1.2019   \n",
       "2  Lexion Development    2019-01-01                     1.2019   \n",
       "\n",
       "  Квартал и год договора  Год договора Дата регистрации  \\\n",
       "0              1кв. 2019          2019       2019-02-18   \n",
       "1              1кв. 2019          2019       2019-05-08   \n",
       "2              1кв. 2019          2019       2019-05-08   \n",
       "\n",
       "  Месяц и год даты регистрации Квартал и год регистрации  Год регистрации  \\\n",
       "0                   2019-02-01                 1кв. 2019             2019   \n",
       "1                   2019-05-01                 2кв. 2019             2019   \n",
       "2                   2019-05-01                 2кв. 2019             2019   \n",
       "\n",
       "        Тип сделки                           ID лота Тип объекта  Секция  \\\n",
       "0  Договор участия  efad7e1a12462258b1111dc006cb76e5    квартира     NaN   \n",
       "1  Договор участия  8049f8214898fdf4ba8991e54d880a18    квартира     4.0   \n",
       "2  Договор участия  b4aaa625763725a4ce03aa28b607df2f    квартира    13.0   \n",
       "\n",
       "   Этаж Количество комнат в прайс-листе, типология bnmap.pro  \\\n",
       "0     5                                                 ст     \n",
       "1    11                                                  2     \n",
       "2    22                                                 ст     \n",
       "\n",
       "   Площадь согласно ПД  Цена за кв. метр    Метод определения цены  \\\n",
       "0                27.43          95325.34  Прайс совпадение площади   \n",
       "1                62.60         114000.00  Прайс совпадение площади   \n",
       "2                24.10         143000.00  Прайс совпадение площади   \n",
       "\n",
       "   Расчетный бюджет объекта Включение скидок/акций в ценообразование  \\\n",
       "0              2.614774e+06                               без скидки   \n",
       "1              7.136400e+06                               без скидки   \n",
       "2              3.446300e+06                               без скидки   \n",
       "\n",
       "                             Скидки по дате договора Отделка по корпусу  \\\n",
       "0  Скидка 12% на ограниченный пул квартир. Скидка...         С отделкой   \n",
       "1  Скидка 2% при 100% оплате или ипотеке. При еди...        Без отделки   \n",
       "2  Скидка 2% при 100% оплате или ипотеке. При еди...        Без отделки   \n",
       "\n",
       "  Тип продавца Тип покупателя  Кол-во покупателей Тип ипотеки  \\\n",
       "0           ЮЛ             ФЛ                   1         Нет   \n",
       "1           ЮЛ             ФЛ                   1         Нет   \n",
       "2           ЮЛ             ФЛ                   3         Нет   \n",
       "\n",
       "   Кол-во месяцев обременения Участие объекта в оптовой сделке  \\\n",
       "0                         NaN                              Нет   \n",
       "1                         NaN                              Нет   \n",
       "2                         NaN                              Нет   \n",
       "\n",
       "  Срок в экспозиции до момента сделки, дней  \\\n",
       "0                                       н/д   \n",
       "1                                       211   \n",
       "2                                       211   \n",
       "\n",
       "  Рост цены за 1 кв.м за период экспонирования  \\\n",
       "0                                          н/д   \n",
       "1                                         7,5%   \n",
       "2                                        16,3%   \n",
       "\n",
       "  Рост бюджета покупки за период экспонирования  \n",
       "0                                           н/д  \n",
       "1                                          7,5%  \n",
       "2                                         16,3%  "
      ]
     },
     "execution_count": 71,
     "metadata": {},
     "output_type": "execute_result"
    }
   ],
   "source": [
    "df.head(3)"
   ]
  },
  {
   "cell_type": "code",
   "execution_count": 72,
   "id": "63d4f767",
   "metadata": {
    "tags": []
   },
   "outputs": [
    {
     "data": {
      "text/plain": [
       "НАО                 63927\n",
       "ТАО                   748\n",
       "Одинцовский г.о.        3\n",
       "Name: Район, dtype: int64"
      ]
     },
     "execution_count": 72,
     "metadata": {},
     "output_type": "execute_result"
    }
   ],
   "source": [
    "df['Район'].value_counts()"
   ]
  },
  {
   "cell_type": "code",
   "execution_count": 73,
   "id": "61fd71bd",
   "metadata": {
    "tags": []
   },
   "outputs": [],
   "source": [
    "df = df.drop(['ID проекта', 'ID корпуса', 'Локация', 'ID лота', 'Расчетный бюджет объекта', 'Кол-во месяцев обременения', 'Рост бюджета покупки за период экспонирования', 'Округ', 'Месяц и год даты договора','Месяц и год даты регистрации', 'Проект'], axis=1)"
   ]
  },
  {
   "cell_type": "code",
   "execution_count": 74,
   "id": "df4a7adf",
   "metadata": {
    "tags": []
   },
   "outputs": [],
   "source": [
    "df = df.rename(columns={'Количество комнат в прайс-листе, типология bnmap.pro': 'Количество комнат'})"
   ]
  },
  {
   "cell_type": "code",
   "execution_count": 75,
   "id": "1b05d44e",
   "metadata": {
    "tags": []
   },
   "outputs": [
    {
     "data": {
      "text/html": [
       "<div>\n",
       "<style scoped>\n",
       "    .dataframe tbody tr th:only-of-type {\n",
       "        vertical-align: middle;\n",
       "    }\n",
       "\n",
       "    .dataframe tbody tr th {\n",
       "        vertical-align: top;\n",
       "    }\n",
       "\n",
       "    .dataframe thead th {\n",
       "        text-align: right;\n",
       "    }\n",
       "</style>\n",
       "<table border=\"1\" class=\"dataframe\">\n",
       "  <thead>\n",
       "    <tr style=\"text-align: right;\">\n",
       "      <th></th>\n",
       "      <th>Район</th>\n",
       "      <th>Адрес корпуса</th>\n",
       "      <th>Стадия строительной готовности на дату договора</th>\n",
       "      <th>Заявленный срок ввода в эксплуатацию</th>\n",
       "      <th>Старт продаж</th>\n",
       "      <th>Класс</th>\n",
       "      <th>Девелопер</th>\n",
       "      <th>Дата договора</th>\n",
       "      <th>Квартал и год договора</th>\n",
       "      <th>Год договора</th>\n",
       "      <th>Дата регистрации</th>\n",
       "      <th>Квартал и год регистрации</th>\n",
       "      <th>Год регистрации</th>\n",
       "      <th>Тип сделки</th>\n",
       "      <th>Тип объекта</th>\n",
       "      <th>Секция</th>\n",
       "      <th>Этаж</th>\n",
       "      <th>Количество комнат</th>\n",
       "      <th>Площадь согласно ПД</th>\n",
       "      <th>Цена за кв. метр</th>\n",
       "      <th>Метод определения цены</th>\n",
       "      <th>Включение скидок/акций в ценообразование</th>\n",
       "      <th>Скидки по дате договора</th>\n",
       "      <th>Отделка по корпусу</th>\n",
       "      <th>Тип продавца</th>\n",
       "      <th>Тип покупателя</th>\n",
       "      <th>Кол-во покупателей</th>\n",
       "      <th>Тип ипотеки</th>\n",
       "      <th>Участие объекта в оптовой сделке</th>\n",
       "      <th>Срок в экспозиции до момента сделки, дней</th>\n",
       "      <th>Рост цены за 1 кв.м за период экспонирования</th>\n",
       "    </tr>\n",
       "  </thead>\n",
       "  <tbody>\n",
       "    <tr>\n",
       "      <th>0</th>\n",
       "      <td>НАО</td>\n",
       "      <td>Крекшино, д. 9 (3 оч.)</td>\n",
       "      <td>Строительство не начато</td>\n",
       "      <td>2020-06-30</td>\n",
       "      <td>2017-05-01</td>\n",
       "      <td>Комфорт</td>\n",
       "      <td>Barkli</td>\n",
       "      <td>2019-01-01</td>\n",
       "      <td>1кв. 2019</td>\n",
       "      <td>2019</td>\n",
       "      <td>2019-02-18</td>\n",
       "      <td>1кв. 2019</td>\n",
       "      <td>2019</td>\n",
       "      <td>Договор участия</td>\n",
       "      <td>квартира</td>\n",
       "      <td>NaN</td>\n",
       "      <td>5</td>\n",
       "      <td>ст</td>\n",
       "      <td>27.43</td>\n",
       "      <td>95325.34</td>\n",
       "      <td>Прайс совпадение площади</td>\n",
       "      <td>без скидки</td>\n",
       "      <td>Скидка 12% на ограниченный пул квартир. Скидка...</td>\n",
       "      <td>С отделкой</td>\n",
       "      <td>ЮЛ</td>\n",
       "      <td>ФЛ</td>\n",
       "      <td>1</td>\n",
       "      <td>Нет</td>\n",
       "      <td>Нет</td>\n",
       "      <td>н/д</td>\n",
       "      <td>н/д</td>\n",
       "    </tr>\n",
       "    <tr>\n",
       "      <th>1</th>\n",
       "      <td>НАО</td>\n",
       "      <td>Московский п., в районе Румянцево дер., уч. 17...</td>\n",
       "      <td>Монтажные и отделочные работы</td>\n",
       "      <td>2020-06-30</td>\n",
       "      <td>2018-04-01</td>\n",
       "      <td>Комфорт</td>\n",
       "      <td>Lexion Development</td>\n",
       "      <td>2019-01-01</td>\n",
       "      <td>1кв. 2019</td>\n",
       "      <td>2019</td>\n",
       "      <td>2019-05-08</td>\n",
       "      <td>2кв. 2019</td>\n",
       "      <td>2019</td>\n",
       "      <td>Договор участия</td>\n",
       "      <td>квартира</td>\n",
       "      <td>4.0</td>\n",
       "      <td>11</td>\n",
       "      <td>2</td>\n",
       "      <td>62.60</td>\n",
       "      <td>114000.00</td>\n",
       "      <td>Прайс совпадение площади</td>\n",
       "      <td>без скидки</td>\n",
       "      <td>Скидка 2% при 100% оплате или ипотеке. При еди...</td>\n",
       "      <td>Без отделки</td>\n",
       "      <td>ЮЛ</td>\n",
       "      <td>ФЛ</td>\n",
       "      <td>1</td>\n",
       "      <td>Нет</td>\n",
       "      <td>Нет</td>\n",
       "      <td>211</td>\n",
       "      <td>7,5%</td>\n",
       "    </tr>\n",
       "    <tr>\n",
       "      <th>2</th>\n",
       "      <td>НАО</td>\n",
       "      <td>Московский п., в районе Румянцево дер., уч. 17...</td>\n",
       "      <td>Монтажные и отделочные работы</td>\n",
       "      <td>2020-06-30</td>\n",
       "      <td>2018-04-01</td>\n",
       "      <td>Комфорт</td>\n",
       "      <td>Lexion Development</td>\n",
       "      <td>2019-01-01</td>\n",
       "      <td>1кв. 2019</td>\n",
       "      <td>2019</td>\n",
       "      <td>2019-05-08</td>\n",
       "      <td>2кв. 2019</td>\n",
       "      <td>2019</td>\n",
       "      <td>Договор участия</td>\n",
       "      <td>квартира</td>\n",
       "      <td>13.0</td>\n",
       "      <td>22</td>\n",
       "      <td>ст</td>\n",
       "      <td>24.10</td>\n",
       "      <td>143000.00</td>\n",
       "      <td>Прайс совпадение площади</td>\n",
       "      <td>без скидки</td>\n",
       "      <td>Скидка 2% при 100% оплате или ипотеке. При еди...</td>\n",
       "      <td>Без отделки</td>\n",
       "      <td>ЮЛ</td>\n",
       "      <td>ФЛ</td>\n",
       "      <td>3</td>\n",
       "      <td>Нет</td>\n",
       "      <td>Нет</td>\n",
       "      <td>211</td>\n",
       "      <td>16,3%</td>\n",
       "    </tr>\n",
       "  </tbody>\n",
       "</table>\n",
       "</div>"
      ],
      "text/plain": [
       "  Район                                      Адрес корпуса  \\\n",
       "0   НАО                             Крекшино, д. 9 (3 оч.)   \n",
       "1   НАО  Московский п., в районе Румянцево дер., уч. 17...   \n",
       "2   НАО  Московский п., в районе Румянцево дер., уч. 17...   \n",
       "\n",
       "  Стадия строительной готовности на дату договора  \\\n",
       "0                         Строительство не начато   \n",
       "1                   Монтажные и отделочные работы   \n",
       "2                   Монтажные и отделочные работы   \n",
       "\n",
       "  Заявленный срок ввода в эксплуатацию Старт продаж    Класс  \\\n",
       "0                           2020-06-30   2017-05-01  Комфорт   \n",
       "1                           2020-06-30   2018-04-01  Комфорт   \n",
       "2                           2020-06-30   2018-04-01  Комфорт   \n",
       "\n",
       "            Девелопер Дата договора Квартал и год договора  Год договора  \\\n",
       "0              Barkli    2019-01-01              1кв. 2019          2019   \n",
       "1  Lexion Development    2019-01-01              1кв. 2019          2019   \n",
       "2  Lexion Development    2019-01-01              1кв. 2019          2019   \n",
       "\n",
       "  Дата регистрации Квартал и год регистрации  Год регистрации  \\\n",
       "0       2019-02-18                 1кв. 2019             2019   \n",
       "1       2019-05-08                 2кв. 2019             2019   \n",
       "2       2019-05-08                 2кв. 2019             2019   \n",
       "\n",
       "        Тип сделки Тип объекта  Секция  Этаж Количество комнат  \\\n",
       "0  Договор участия    квартира     NaN     5                ст   \n",
       "1  Договор участия    квартира     4.0    11                 2   \n",
       "2  Договор участия    квартира    13.0    22                ст   \n",
       "\n",
       "   Площадь согласно ПД  Цена за кв. метр    Метод определения цены  \\\n",
       "0                27.43          95325.34  Прайс совпадение площади   \n",
       "1                62.60         114000.00  Прайс совпадение площади   \n",
       "2                24.10         143000.00  Прайс совпадение площади   \n",
       "\n",
       "  Включение скидок/акций в ценообразование  \\\n",
       "0                               без скидки   \n",
       "1                               без скидки   \n",
       "2                               без скидки   \n",
       "\n",
       "                             Скидки по дате договора Отделка по корпусу  \\\n",
       "0  Скидка 12% на ограниченный пул квартир. Скидка...         С отделкой   \n",
       "1  Скидка 2% при 100% оплате или ипотеке. При еди...        Без отделки   \n",
       "2  Скидка 2% при 100% оплате или ипотеке. При еди...        Без отделки   \n",
       "\n",
       "  Тип продавца Тип покупателя  Кол-во покупателей Тип ипотеки  \\\n",
       "0           ЮЛ             ФЛ                   1         Нет   \n",
       "1           ЮЛ             ФЛ                   1         Нет   \n",
       "2           ЮЛ             ФЛ                   3         Нет   \n",
       "\n",
       "  Участие объекта в оптовой сделке Срок в экспозиции до момента сделки, дней  \\\n",
       "0                              Нет                                       н/д   \n",
       "1                              Нет                                       211   \n",
       "2                              Нет                                       211   \n",
       "\n",
       "  Рост цены за 1 кв.м за период экспонирования  \n",
       "0                                          н/д  \n",
       "1                                         7,5%  \n",
       "2                                        16,3%  "
      ]
     },
     "execution_count": 75,
     "metadata": {},
     "output_type": "execute_result"
    }
   ],
   "source": [
    "df.head(3)"
   ]
  },
  {
   "cell_type": "code",
   "execution_count": 76,
   "id": "021659cd",
   "metadata": {},
   "outputs": [
    {
     "data": {
      "text/plain": [
       "count                             64678\n",
       "unique                                7\n",
       "top       Монтажные и отделочные работы\n",
       "freq                              35493\n",
       "Name: Стадия строительной готовности на дату договора, dtype: object"
      ]
     },
     "execution_count": 76,
     "metadata": {},
     "output_type": "execute_result"
    }
   ],
   "source": [
    "df['Стадия строительной готовности на дату договора'].describe()"
   ]
  },
  {
   "cell_type": "code",
   "execution_count": 77,
   "id": "58e977b5",
   "metadata": {
    "tags": []
   },
   "outputs": [],
   "source": [
    "df['Заявленный срок ввода в эксплуатацию'] = pd.to_datetime(df['Заявленный срок ввода в эксплуатацию'], errors='coerce')"
   ]
  },
  {
   "cell_type": "code",
   "execution_count": 78,
   "id": "61f41686",
   "metadata": {
    "tags": []
   },
   "outputs": [],
   "source": [
    "df = df.drop('Год договора', axis=1)\n",
    "df = df.drop('Год регистрации', axis=1)"
   ]
  },
  {
   "cell_type": "code",
   "execution_count": 79,
   "id": "4b282b67",
   "metadata": {
    "tags": []
   },
   "outputs": [],
   "source": [
    "def split_quater(name):\n",
    "    quater,year = [],[]\n",
    "    for i in df[name]:\n",
    "        quater.append(i.split(' ')[0][0])\n",
    "        year.append(i.split(' ')[-1])\n",
    "    return quater, year"
   ]
  },
  {
   "cell_type": "code",
   "execution_count": 80,
   "id": "0455543a",
   "metadata": {
    "tags": []
   },
   "outputs": [],
   "source": [
    "df.insert(9, \"Квартал договора\", split_quater('Квартал и год договора')[0])\n",
    "df = df.drop('Квартал и год договора', axis=1)\n",
    "df['Квартал договора'] = df['Квартал договора'].astype(str).astype(int)\n",
    "df['Дата договора'] = pd.to_datetime(df['Дата договора'])"
   ]
  },
  {
   "cell_type": "code",
   "execution_count": 81,
   "id": "cf20b593",
   "metadata": {
    "tags": []
   },
   "outputs": [],
   "source": [
    "df.insert(12, \"Квартал регистрации\", split_quater('Квартал и год регистрации')[0])\n",
    "df = df.drop('Квартал и год регистрации', axis=1)\n",
    "df['Квартал регистрации'] = df['Квартал регистрации'].astype(str).astype(int)"
   ]
  },
  {
   "cell_type": "code",
   "execution_count": 82,
   "id": "5d9942d6",
   "metadata": {
    "tags": []
   },
   "outputs": [
    {
     "name": "stdout",
     "output_type": "stream",
     "text": [
      "4356\n"
     ]
    }
   ],
   "source": [
    "print(df['Секция'].isnull().sum())\n",
    "df['Секция']=df['Секция'].replace(float('nan'),0)\n",
    "imputer = SimpleImputer(missing_values=0, strategy='mean')\n",
    "df['Секция'] = imputer.fit_transform(df['Секция'].values.reshape(-1, 1))\n",
    "df['Секция'] = df['Секция'].astype(int)"
   ]
  },
  {
   "cell_type": "code",
   "execution_count": 83,
   "id": "ad98686a",
   "metadata": {
    "tags": []
   },
   "outputs": [
    {
     "name": "stdout",
     "output_type": "stream",
     "text": [
      "907\n"
     ]
    }
   ],
   "source": [
    "print(df['Цена за кв. метр'].isnull().sum())\n",
    "df = df.dropna(subset = ['Цена за кв. метр'])"
   ]
  },
  {
   "cell_type": "code",
   "execution_count": 84,
   "id": "819e4d50",
   "metadata": {},
   "outputs": [
    {
     "data": {
      "text/plain": [
       "1     23297\n",
       "2     22203\n",
       "ст     8924\n",
       "3      8035\n",
       "4       863\n",
       "-         4\n",
       "Name: Количество комнат, dtype: int64"
      ]
     },
     "execution_count": 84,
     "metadata": {},
     "output_type": "execute_result"
    }
   ],
   "source": [
    "df['Количество комнат'].value_counts()"
   ]
  },
  {
   "cell_type": "code",
   "execution_count": 85,
   "id": "d686dbe1",
   "metadata": {},
   "outputs": [
    {
     "name": "stdout",
     "output_type": "stream",
     "text": [
      "445\n",
      "['студия' '2' '1' '3' 0 '4' '-']\n",
      "['студия' '2' '1' '3' '4']\n"
     ]
    }
   ],
   "source": [
    "df['Количество комнат'] = df['Количество комнат'].replace('ст','студия')\n",
    "print(df['Количество комнат'].isnull().sum())\n",
    "df['Количество комнат'] = df['Количество комнат'].replace(float('nan'),0)\n",
    "print(df['Количество комнат'].unique())\n",
    "df = df[df['Количество комнат'] != 0]\n",
    "df = df[df['Количество комнат'] != 'bez-tipa']\n",
    "df = df[df['Количество комнат'] != '-']\n",
    "print(df['Количество комнат'].unique())"
   ]
  },
  {
   "cell_type": "code",
   "execution_count": 86,
   "id": "50d39961",
   "metadata": {},
   "outputs": [],
   "source": [
    "df = df.loc[df['Цена за кв. метр']>0]\n",
    "df = df.loc[df['Площадь согласно ПД']>0]"
   ]
  },
  {
   "cell_type": "code",
   "execution_count": 87,
   "id": "c8d1559f",
   "metadata": {},
   "outputs": [
    {
     "name": "stdout",
     "output_type": "stream",
     "text": [
      "Комфорт    57529\n",
      "Эконом      4386\n",
      "Бизнес-      833\n",
      "Бизнес       292\n",
      "Name: Класс, dtype: int64\n",
      "Комфорт    57529\n",
      "Эконом      4386\n",
      "Бизнес      1125\n",
      "Name: Класс, dtype: int64\n"
     ]
    }
   ],
   "source": [
    "print(df['Класс'].value_counts())\n",
    "df['Класс'].replace('Бизнес-', 'Бизнес', inplace=True)\n",
    "print(df['Класс'].value_counts())"
   ]
  },
  {
   "cell_type": "code",
   "execution_count": 88,
   "id": "4bfa087d",
   "metadata": {},
   "outputs": [],
   "source": [
    "df.insert(2,'Расстояние до метро', 0)"
   ]
  },
  {
   "cell_type": "code",
   "execution_count": 89,
   "id": "700eb7ed",
   "metadata": {},
   "outputs": [
    {
     "data": {
      "text/plain": [
       "366"
      ]
     },
     "execution_count": 89,
     "metadata": {},
     "output_type": "execute_result"
    }
   ],
   "source": [
    "len(metro['Расстояние до метро'])"
   ]
  },
  {
   "cell_type": "code",
   "execution_count": 90,
   "id": "59c7db0d",
   "metadata": {},
   "outputs": [
    {
     "data": {
      "text/plain": [
       "398"
      ]
     },
     "execution_count": 90,
     "metadata": {},
     "output_type": "execute_result"
    }
   ],
   "source": [
    "len(set(df['Адрес корпуса']))"
   ]
  },
  {
   "cell_type": "code",
   "execution_count": 91,
   "id": "d4728118",
   "metadata": {},
   "outputs": [
    {
     "name": "stdout",
     "output_type": "stream",
     "text": [
      "139314.6983655891\n"
     ]
    },
    {
     "data": {
      "image/png": "[encoded data removed]",
      "text/plain": [
       "<Figure size 432x288 with 1 Axes>"
      ]
     },
     "metadata": {
      "needs_background": "light"
     },
     "output_type": "display_data"
    }
   ],
   "source": [
    "metro['Расстояние до метро'].hist()\n",
    "print(metro['Расстояние до метро'].max())"
   ]
  },
  {
   "cell_type": "code",
   "execution_count": null,
   "id": "97cbcf56",
   "metadata": {},
   "outputs": [],
   "source": []
  },
  {
   "cell_type": "code",
   "execution_count": 92,
   "id": "bc72b2ed",
   "metadata": {},
   "outputs": [],
   "source": [
    "d = {}\n",
    "for i in range(len(metro)):\n",
    "    d[metro.loc[i, 'Адрес']] = metro.loc[i, 'Расстояние до метро']"
   ]
  },
  {
   "cell_type": "code",
   "execution_count": 93,
   "id": "b9f6d947",
   "metadata": {},
   "outputs": [
    {
     "data": {
      "text/html": [
       "<div>\n",
       "<style scoped>\n",
       "    .dataframe tbody tr th:only-of-type {\n",
       "        vertical-align: middle;\n",
       "    }\n",
       "\n",
       "    .dataframe tbody tr th {\n",
       "        vertical-align: top;\n",
       "    }\n",
       "\n",
       "    .dataframe thead th {\n",
       "        text-align: right;\n",
       "    }\n",
       "</style>\n",
       "<table border=\"1\" class=\"dataframe\">\n",
       "  <thead>\n",
       "    <tr style=\"text-align: right;\">\n",
       "      <th></th>\n",
       "      <th>Район</th>\n",
       "      <th>Адрес корпуса</th>\n",
       "      <th>Расстояние до метро</th>\n",
       "      <th>Стадия строительной готовности на дату договора</th>\n",
       "      <th>Заявленный срок ввода в эксплуатацию</th>\n",
       "      <th>Старт продаж</th>\n",
       "      <th>Класс</th>\n",
       "      <th>Девелопер</th>\n",
       "      <th>Дата договора</th>\n",
       "      <th>Квартал договора</th>\n",
       "      <th>Дата регистрации</th>\n",
       "      <th>Тип сделки</th>\n",
       "      <th>Квартал регистрации</th>\n",
       "      <th>Тип объекта</th>\n",
       "      <th>Секция</th>\n",
       "      <th>Этаж</th>\n",
       "      <th>Количество комнат</th>\n",
       "      <th>Площадь согласно ПД</th>\n",
       "      <th>Цена за кв. метр</th>\n",
       "      <th>Метод определения цены</th>\n",
       "      <th>Включение скидок/акций в ценообразование</th>\n",
       "      <th>Скидки по дате договора</th>\n",
       "      <th>Отделка по корпусу</th>\n",
       "      <th>Тип продавца</th>\n",
       "      <th>Тип покупателя</th>\n",
       "      <th>Кол-во покупателей</th>\n",
       "      <th>Тип ипотеки</th>\n",
       "      <th>Участие объекта в оптовой сделке</th>\n",
       "      <th>Срок в экспозиции до момента сделки, дней</th>\n",
       "      <th>Рост цены за 1 кв.м за период экспонирования</th>\n",
       "    </tr>\n",
       "  </thead>\n",
       "  <tbody>\n",
       "    <tr>\n",
       "      <th>0</th>\n",
       "      <td>НАО</td>\n",
       "      <td>Крекшино, д. 9 (3 оч.)</td>\n",
       "      <td>0</td>\n",
       "      <td>Строительство не начато</td>\n",
       "      <td>2020-06-30</td>\n",
       "      <td>2017-05-01</td>\n",
       "      <td>Комфорт</td>\n",
       "      <td>Barkli</td>\n",
       "      <td>2019-01-01</td>\n",
       "      <td>1</td>\n",
       "      <td>2019-02-18</td>\n",
       "      <td>Договор участия</td>\n",
       "      <td>1</td>\n",
       "      <td>квартира</td>\n",
       "      <td>4</td>\n",
       "      <td>5</td>\n",
       "      <td>студия</td>\n",
       "      <td>27.43</td>\n",
       "      <td>95325.34</td>\n",
       "      <td>Прайс совпадение площади</td>\n",
       "      <td>без скидки</td>\n",
       "      <td>Скидка 12% на ограниченный пул квартир. Скидка...</td>\n",
       "      <td>С отделкой</td>\n",
       "      <td>ЮЛ</td>\n",
       "      <td>ФЛ</td>\n",
       "      <td>1</td>\n",
       "      <td>Нет</td>\n",
       "      <td>Нет</td>\n",
       "      <td>н/д</td>\n",
       "      <td>н/д</td>\n",
       "    </tr>\n",
       "    <tr>\n",
       "      <th>1</th>\n",
       "      <td>НАО</td>\n",
       "      <td>Московский п., в районе Румянцево дер., уч. 17...</td>\n",
       "      <td>0</td>\n",
       "      <td>Монтажные и отделочные работы</td>\n",
       "      <td>2020-06-30</td>\n",
       "      <td>2018-04-01</td>\n",
       "      <td>Комфорт</td>\n",
       "      <td>Lexion Development</td>\n",
       "      <td>2019-01-01</td>\n",
       "      <td>1</td>\n",
       "      <td>2019-05-08</td>\n",
       "      <td>Договор участия</td>\n",
       "      <td>2</td>\n",
       "      <td>квартира</td>\n",
       "      <td>4</td>\n",
       "      <td>11</td>\n",
       "      <td>2</td>\n",
       "      <td>62.60</td>\n",
       "      <td>114000.00</td>\n",
       "      <td>Прайс совпадение площади</td>\n",
       "      <td>без скидки</td>\n",
       "      <td>Скидка 2% при 100% оплате или ипотеке. При еди...</td>\n",
       "      <td>Без отделки</td>\n",
       "      <td>ЮЛ</td>\n",
       "      <td>ФЛ</td>\n",
       "      <td>1</td>\n",
       "      <td>Нет</td>\n",
       "      <td>Нет</td>\n",
       "      <td>211</td>\n",
       "      <td>7,5%</td>\n",
       "    </tr>\n",
       "    <tr>\n",
       "      <th>2</th>\n",
       "      <td>НАО</td>\n",
       "      <td>Московский п., в районе Румянцево дер., уч. 17...</td>\n",
       "      <td>0</td>\n",
       "      <td>Монтажные и отделочные работы</td>\n",
       "      <td>2020-06-30</td>\n",
       "      <td>2018-04-01</td>\n",
       "      <td>Комфорт</td>\n",
       "      <td>Lexion Development</td>\n",
       "      <td>2019-01-01</td>\n",
       "      <td>1</td>\n",
       "      <td>2019-05-08</td>\n",
       "      <td>Договор участия</td>\n",
       "      <td>2</td>\n",
       "      <td>квартира</td>\n",
       "      <td>13</td>\n",
       "      <td>22</td>\n",
       "      <td>студия</td>\n",
       "      <td>24.10</td>\n",
       "      <td>143000.00</td>\n",
       "      <td>Прайс совпадение площади</td>\n",
       "      <td>без скидки</td>\n",
       "      <td>Скидка 2% при 100% оплате или ипотеке. При еди...</td>\n",
       "      <td>Без отделки</td>\n",
       "      <td>ЮЛ</td>\n",
       "      <td>ФЛ</td>\n",
       "      <td>3</td>\n",
       "      <td>Нет</td>\n",
       "      <td>Нет</td>\n",
       "      <td>211</td>\n",
       "      <td>16,3%</td>\n",
       "    </tr>\n",
       "    <tr>\n",
       "      <th>3</th>\n",
       "      <td>НАО</td>\n",
       "      <td>Крекшино, д. 5 (2 оч.)</td>\n",
       "      <td>0</td>\n",
       "      <td>Монтажные и отделочные работы</td>\n",
       "      <td>2019-09-30</td>\n",
       "      <td>2016-08-01</td>\n",
       "      <td>Комфорт</td>\n",
       "      <td>Barkli</td>\n",
       "      <td>2019-01-02</td>\n",
       "      <td>1</td>\n",
       "      <td>2019-10-14</td>\n",
       "      <td>Договор уступки</td>\n",
       "      <td>4</td>\n",
       "      <td>квартира</td>\n",
       "      <td>4</td>\n",
       "      <td>6</td>\n",
       "      <td>студия</td>\n",
       "      <td>28.22</td>\n",
       "      <td>102625.78</td>\n",
       "      <td>Прайс совпадение площади</td>\n",
       "      <td>без скидки</td>\n",
       "      <td>Скидка 12% на ограниченный пул квартир. Скидка...</td>\n",
       "      <td>Без отделки</td>\n",
       "      <td>ЮЛ</td>\n",
       "      <td>ФЛ</td>\n",
       "      <td>1</td>\n",
       "      <td>Ипотека</td>\n",
       "      <td>Нет</td>\n",
       "      <td>н/д</td>\n",
       "      <td>н/д</td>\n",
       "    </tr>\n",
       "    <tr>\n",
       "      <th>4</th>\n",
       "      <td>НАО</td>\n",
       "      <td>Московский п., в районе дер. Саларьево, к. 15</td>\n",
       "      <td>0</td>\n",
       "      <td>Монтажные и отделочные работы</td>\n",
       "      <td>2020-03-31</td>\n",
       "      <td>2018-02-01</td>\n",
       "      <td>Комфорт</td>\n",
       "      <td>ПИК</td>\n",
       "      <td>2019-01-03</td>\n",
       "      <td>1</td>\n",
       "      <td>2019-02-13</td>\n",
       "      <td>Договор участия</td>\n",
       "      <td>1</td>\n",
       "      <td>квартира</td>\n",
       "      <td>1</td>\n",
       "      <td>21</td>\n",
       "      <td>2</td>\n",
       "      <td>51.20</td>\n",
       "      <td>131700.00</td>\n",
       "      <td>Прайс совпадение площади</td>\n",
       "      <td>без скидки</td>\n",
       "      <td>Скидка до 2% при 100% оплате или ипотеке (дейс...</td>\n",
       "      <td>С отделкой</td>\n",
       "      <td>ЮЛ</td>\n",
       "      <td>ФЛ</td>\n",
       "      <td>1</td>\n",
       "      <td>Нет</td>\n",
       "      <td>Нет</td>\n",
       "      <td>275</td>\n",
       "      <td>15,0%</td>\n",
       "    </tr>\n",
       "  </tbody>\n",
       "</table>\n",
       "</div>"
      ],
      "text/plain": [
       "  Район                                      Адрес корпуса  \\\n",
       "0   НАО                             Крекшино, д. 9 (3 оч.)   \n",
       "1   НАО  Московский п., в районе Румянцево дер., уч. 17...   \n",
       "2   НАО  Московский п., в районе Румянцево дер., уч. 17...   \n",
       "3   НАО                             Крекшино, д. 5 (2 оч.)   \n",
       "4   НАО      Московский п., в районе дер. Саларьево, к. 15   \n",
       "\n",
       "   Расстояние до метро Стадия строительной готовности на дату договора  \\\n",
       "0                    0                         Строительство не начато   \n",
       "1                    0                   Монтажные и отделочные работы   \n",
       "2                    0                   Монтажные и отделочные работы   \n",
       "3                    0                   Монтажные и отделочные работы   \n",
       "4                    0                   Монтажные и отделочные работы   \n",
       "\n",
       "  Заявленный срок ввода в эксплуатацию Старт продаж    Класс  \\\n",
       "0                           2020-06-30   2017-05-01  Комфорт   \n",
       "1                           2020-06-30   2018-04-01  Комфорт   \n",
       "2                           2020-06-30   2018-04-01  Комфорт   \n",
       "3                           2019-09-30   2016-08-01  Комфорт   \n",
       "4                           2020-03-31   2018-02-01  Комфорт   \n",
       "\n",
       "            Девелопер Дата договора  Квартал договора Дата регистрации  \\\n",
       "0              Barkli    2019-01-01                 1       2019-02-18   \n",
       "1  Lexion Development    2019-01-01                 1       2019-05-08   \n",
       "2  Lexion Development    2019-01-01                 1       2019-05-08   \n",
       "3              Barkli    2019-01-02                 1       2019-10-14   \n",
       "4                 ПИК    2019-01-03                 1       2019-02-13   \n",
       "\n",
       "        Тип сделки  Квартал регистрации Тип объекта  Секция  Этаж  \\\n",
       "0  Договор участия                    1    квартира       4     5   \n",
       "1  Договор участия                    2    квартира       4    11   \n",
       "2  Договор участия                    2    квартира      13    22   \n",
       "3  Договор уступки                    4    квартира       4     6   \n",
       "4  Договор участия                    1    квартира       1    21   \n",
       "\n",
       "  Количество комнат  Площадь согласно ПД  Цена за кв. метр  \\\n",
       "0            студия                27.43          95325.34   \n",
       "1                 2                62.60         114000.00   \n",
       "2            студия                24.10         143000.00   \n",
       "3            студия                28.22         102625.78   \n",
       "4                 2                51.20         131700.00   \n",
       "\n",
       "     Метод определения цены Включение скидок/акций в ценообразование  \\\n",
       "0  Прайс совпадение площади                               без скидки   \n",
       "1  Прайс совпадение площади                               без скидки   \n",
       "2  Прайс совпадение площади                               без скидки   \n",
       "3  Прайс совпадение площади                               без скидки   \n",
       "4  Прайс совпадение площади                               без скидки   \n",
       "\n",
       "                             Скидки по дате договора Отделка по корпусу  \\\n",
       "0  Скидка 12% на ограниченный пул квартир. Скидка...         С отделкой   \n",
       "1  Скидка 2% при 100% оплате или ипотеке. При еди...        Без отделки   \n",
       "2  Скидка 2% при 100% оплате или ипотеке. При еди...        Без отделки   \n",
       "3  Скидка 12% на ограниченный пул квартир. Скидка...        Без отделки   \n",
       "4  Скидка до 2% при 100% оплате или ипотеке (дейс...         С отделкой   \n",
       "\n",
       "  Тип продавца Тип покупателя  Кол-во покупателей Тип ипотеки  \\\n",
       "0           ЮЛ             ФЛ                   1         Нет   \n",
       "1           ЮЛ             ФЛ                   1         Нет   \n",
       "2           ЮЛ             ФЛ                   3         Нет   \n",
       "3           ЮЛ             ФЛ                   1     Ипотека   \n",
       "4           ЮЛ             ФЛ                   1         Нет   \n",
       "\n",
       "  Участие объекта в оптовой сделке Срок в экспозиции до момента сделки, дней  \\\n",
       "0                              Нет                                       н/д   \n",
       "1                              Нет                                       211   \n",
       "2                              Нет                                       211   \n",
       "3                              Нет                                       н/д   \n",
       "4                              Нет                                       275   \n",
       "\n",
       "  Рост цены за 1 кв.м за период экспонирования  \n",
       "0                                          н/д  \n",
       "1                                         7,5%  \n",
       "2                                        16,3%  \n",
       "3                                          н/д  \n",
       "4                                        15,0%  "
      ]
     },
     "execution_count": 93,
     "metadata": {},
     "output_type": "execute_result"
    }
   ],
   "source": [
    "df.head(5)"
   ]
  },
  {
   "cell_type": "code",
   "execution_count": 94,
   "id": "84e0d026",
   "metadata": {},
   "outputs": [],
   "source": [
    "for i in range(len(df)):\n",
    "    try:\n",
    "        df.loc[i, 'Расстояние до метро'] = round(d[df.loc[i, 'Адрес корпуса']],2)\n",
    "    except:\n",
    "        pass\n",
    "df['Расстояние до метро'].replace(0, np.nan, inplace=True)"
   ]
  },
  {
   "cell_type": "code",
   "execution_count": 95,
   "id": "9b2f9144",
   "metadata": {},
   "outputs": [
    {
     "name": "stdout",
     "output_type": "stream",
     "text": [
      "FINAL LENGTH 59346\n"
     ]
    }
   ],
   "source": [
    "df.dropna(inplace=True)\n",
    "print('FINAL LENGTH', len(df))"
   ]
  },
  {
   "cell_type": "markdown",
   "id": "226b12e9",
   "metadata": {},
   "source": [
    "# Anaaaaaalyze"
   ]
  },
  {
   "cell_type": "code",
   "execution_count": 96,
   "id": "08314b2c",
   "metadata": {},
   "outputs": [
    {
     "data": {
      "text/html": [
       "<div>\n",
       "<style scoped>\n",
       "    .dataframe tbody tr th:only-of-type {\n",
       "        vertical-align: middle;\n",
       "    }\n",
       "\n",
       "    .dataframe tbody tr th {\n",
       "        vertical-align: top;\n",
       "    }\n",
       "\n",
       "    .dataframe thead th {\n",
       "        text-align: right;\n",
       "    }\n",
       "</style>\n",
       "<table border=\"1\" class=\"dataframe\">\n",
       "  <thead>\n",
       "    <tr style=\"text-align: right;\">\n",
       "      <th></th>\n",
       "      <th>Район</th>\n",
       "      <th>Адрес корпуса</th>\n",
       "      <th>Расстояние до метро</th>\n",
       "      <th>Стадия строительной готовности на дату договора</th>\n",
       "      <th>Заявленный срок ввода в эксплуатацию</th>\n",
       "      <th>Старт продаж</th>\n",
       "      <th>Класс</th>\n",
       "      <th>Девелопер</th>\n",
       "      <th>Дата договора</th>\n",
       "      <th>Квартал договора</th>\n",
       "      <th>Дата регистрации</th>\n",
       "      <th>Тип сделки</th>\n",
       "      <th>Квартал регистрации</th>\n",
       "      <th>Тип объекта</th>\n",
       "      <th>Секция</th>\n",
       "      <th>Этаж</th>\n",
       "      <th>Количество комнат</th>\n",
       "      <th>Площадь согласно ПД</th>\n",
       "      <th>Цена за кв. метр</th>\n",
       "      <th>Метод определения цены</th>\n",
       "      <th>Включение скидок/акций в ценообразование</th>\n",
       "      <th>Скидки по дате договора</th>\n",
       "      <th>Отделка по корпусу</th>\n",
       "      <th>Тип продавца</th>\n",
       "      <th>Тип покупателя</th>\n",
       "      <th>Кол-во покупателей</th>\n",
       "      <th>Тип ипотеки</th>\n",
       "      <th>Участие объекта в оптовой сделке</th>\n",
       "      <th>Срок в экспозиции до момента сделки, дней</th>\n",
       "      <th>Рост цены за 1 кв.м за период экспонирования</th>\n",
       "    </tr>\n",
       "  </thead>\n",
       "  <tbody>\n",
       "    <tr>\n",
       "      <th>0</th>\n",
       "      <td>НАО</td>\n",
       "      <td>Крекшино, д. 9 (3 оч.)</td>\n",
       "      <td>15071.10</td>\n",
       "      <td>Строительство не начато</td>\n",
       "      <td>2020-06-30</td>\n",
       "      <td>2017-05-01</td>\n",
       "      <td>Комфорт</td>\n",
       "      <td>Barkli</td>\n",
       "      <td>2019-01-01</td>\n",
       "      <td>1</td>\n",
       "      <td>2019-02-18</td>\n",
       "      <td>Договор участия</td>\n",
       "      <td>1</td>\n",
       "      <td>квартира</td>\n",
       "      <td>4</td>\n",
       "      <td>5</td>\n",
       "      <td>студия</td>\n",
       "      <td>27.43</td>\n",
       "      <td>95325.34</td>\n",
       "      <td>Прайс совпадение площади</td>\n",
       "      <td>без скидки</td>\n",
       "      <td>Скидка 12% на ограниченный пул квартир. Скидка...</td>\n",
       "      <td>С отделкой</td>\n",
       "      <td>ЮЛ</td>\n",
       "      <td>ФЛ</td>\n",
       "      <td>1</td>\n",
       "      <td>Нет</td>\n",
       "      <td>Нет</td>\n",
       "      <td>н/д</td>\n",
       "      <td>н/д</td>\n",
       "    </tr>\n",
       "    <tr>\n",
       "      <th>1</th>\n",
       "      <td>НАО</td>\n",
       "      <td>Московский п., в районе Румянцево дер., уч. 17...</td>\n",
       "      <td>127.74</td>\n",
       "      <td>Монтажные и отделочные работы</td>\n",
       "      <td>2020-06-30</td>\n",
       "      <td>2018-04-01</td>\n",
       "      <td>Комфорт</td>\n",
       "      <td>Lexion Development</td>\n",
       "      <td>2019-01-01</td>\n",
       "      <td>1</td>\n",
       "      <td>2019-05-08</td>\n",
       "      <td>Договор участия</td>\n",
       "      <td>2</td>\n",
       "      <td>квартира</td>\n",
       "      <td>4</td>\n",
       "      <td>11</td>\n",
       "      <td>2</td>\n",
       "      <td>62.60</td>\n",
       "      <td>114000.00</td>\n",
       "      <td>Прайс совпадение площади</td>\n",
       "      <td>без скидки</td>\n",
       "      <td>Скидка 2% при 100% оплате или ипотеке. При еди...</td>\n",
       "      <td>Без отделки</td>\n",
       "      <td>ЮЛ</td>\n",
       "      <td>ФЛ</td>\n",
       "      <td>1</td>\n",
       "      <td>Нет</td>\n",
       "      <td>Нет</td>\n",
       "      <td>211</td>\n",
       "      <td>7,5%</td>\n",
       "    </tr>\n",
       "    <tr>\n",
       "      <th>2</th>\n",
       "      <td>НАО</td>\n",
       "      <td>Московский п., в районе Румянцево дер., уч. 17...</td>\n",
       "      <td>127.74</td>\n",
       "      <td>Монтажные и отделочные работы</td>\n",
       "      <td>2020-06-30</td>\n",
       "      <td>2018-04-01</td>\n",
       "      <td>Комфорт</td>\n",
       "      <td>Lexion Development</td>\n",
       "      <td>2019-01-01</td>\n",
       "      <td>1</td>\n",
       "      <td>2019-05-08</td>\n",
       "      <td>Договор участия</td>\n",
       "      <td>2</td>\n",
       "      <td>квартира</td>\n",
       "      <td>13</td>\n",
       "      <td>22</td>\n",
       "      <td>студия</td>\n",
       "      <td>24.10</td>\n",
       "      <td>143000.00</td>\n",
       "      <td>Прайс совпадение площади</td>\n",
       "      <td>без скидки</td>\n",
       "      <td>Скидка 2% при 100% оплате или ипотеке. При еди...</td>\n",
       "      <td>Без отделки</td>\n",
       "      <td>ЮЛ</td>\n",
       "      <td>ФЛ</td>\n",
       "      <td>3</td>\n",
       "      <td>Нет</td>\n",
       "      <td>Нет</td>\n",
       "      <td>211</td>\n",
       "      <td>16,3%</td>\n",
       "    </tr>\n",
       "  </tbody>\n",
       "</table>\n",
       "</div>"
      ],
      "text/plain": [
       "  Район                                      Адрес корпуса  \\\n",
       "0   НАО                             Крекшино, д. 9 (3 оч.)   \n",
       "1   НАО  Московский п., в районе Румянцево дер., уч. 17...   \n",
       "2   НАО  Московский п., в районе Румянцево дер., уч. 17...   \n",
       "\n",
       "   Расстояние до метро Стадия строительной готовности на дату договора  \\\n",
       "0             15071.10                         Строительство не начато   \n",
       "1               127.74                   Монтажные и отделочные работы   \n",
       "2               127.74                   Монтажные и отделочные работы   \n",
       "\n",
       "  Заявленный срок ввода в эксплуатацию Старт продаж    Класс  \\\n",
       "0                           2020-06-30   2017-05-01  Комфорт   \n",
       "1                           2020-06-30   2018-04-01  Комфорт   \n",
       "2                           2020-06-30   2018-04-01  Комфорт   \n",
       "\n",
       "            Девелопер Дата договора  Квартал договора Дата регистрации  \\\n",
       "0              Barkli    2019-01-01                 1       2019-02-18   \n",
       "1  Lexion Development    2019-01-01                 1       2019-05-08   \n",
       "2  Lexion Development    2019-01-01                 1       2019-05-08   \n",
       "\n",
       "        Тип сделки  Квартал регистрации Тип объекта  Секция  Этаж  \\\n",
       "0  Договор участия                    1    квартира       4     5   \n",
       "1  Договор участия                    2    квартира       4    11   \n",
       "2  Договор участия                    2    квартира      13    22   \n",
       "\n",
       "  Количество комнат  Площадь согласно ПД  Цена за кв. метр  \\\n",
       "0            студия                27.43          95325.34   \n",
       "1                 2                62.60         114000.00   \n",
       "2            студия                24.10         143000.00   \n",
       "\n",
       "     Метод определения цены Включение скидок/акций в ценообразование  \\\n",
       "0  Прайс совпадение площади                               без скидки   \n",
       "1  Прайс совпадение площади                               без скидки   \n",
       "2  Прайс совпадение площади                               без скидки   \n",
       "\n",
       "                             Скидки по дате договора Отделка по корпусу  \\\n",
       "0  Скидка 12% на ограниченный пул квартир. Скидка...         С отделкой   \n",
       "1  Скидка 2% при 100% оплате или ипотеке. При еди...        Без отделки   \n",
       "2  Скидка 2% при 100% оплате или ипотеке. При еди...        Без отделки   \n",
       "\n",
       "  Тип продавца Тип покупателя  Кол-во покупателей Тип ипотеки  \\\n",
       "0           ЮЛ             ФЛ                   1         Нет   \n",
       "1           ЮЛ             ФЛ                   1         Нет   \n",
       "2           ЮЛ             ФЛ                   3         Нет   \n",
       "\n",
       "  Участие объекта в оптовой сделке Срок в экспозиции до момента сделки, дней  \\\n",
       "0                              Нет                                       н/д   \n",
       "1                              Нет                                       211   \n",
       "2                              Нет                                       211   \n",
       "\n",
       "  Рост цены за 1 кв.м за период экспонирования  \n",
       "0                                          н/д  \n",
       "1                                         7,5%  \n",
       "2                                        16,3%  "
      ]
     },
     "execution_count": 96,
     "metadata": {},
     "output_type": "execute_result"
    }
   ],
   "source": [
    "df.head(3)"
   ]
  },
  {
   "cell_type": "code",
   "execution_count": 97,
   "id": "4e95fe0e",
   "metadata": {},
   "outputs": [
    {
     "data": {
      "text/plain": [
       "<Figure size 200x300 with 0 Axes>"
      ]
     },
     "execution_count": 97,
     "metadata": {},
     "output_type": "execute_result"
    },
    {
     "data": {
      "text/plain": [
       "<Figure size 200x300 with 0 Axes>"
      ]
     },
     "metadata": {},
     "output_type": "display_data"
    }
   ],
   "source": [
    "figure(figsize=(2, 3), dpi=100)"
   ]
  },
  {
   "cell_type": "code",
   "execution_count": 98,
   "id": "94f89e78",
   "metadata": {},
   "outputs": [
    {
     "data": {
      "text/plain": [
       "<AxesSubplot:>"
      ]
     },
     "execution_count": 98,
     "metadata": {},
     "output_type": "execute_result"
    },
    {
     "data": {
      "image/png": "[encoded data removed]",
      "text/plain": [
       "<Figure size 432x288 with 1 Axes>"
      ]
     },
     "metadata": {
      "needs_background": "light"
     },
     "output_type": "display_data"
    }
   ],
   "source": [
    "# figure(figsize=(10, 5), dpi=300)\n",
    "import matplotlib.pyplot as plt\n",
    "plt.xticks(rotation=0)\n",
    "df['Девелопер'].value_counts(sort=True, ascending=True).plot.barh()\n",
    "# plt.savefig(f'developer.jpg', bbox_inches = 'tight', dpi=300)"
   ]
  },
  {
   "cell_type": "code",
   "execution_count": 99,
   "id": "9e99f9d8",
   "metadata": {},
   "outputs": [
    {
     "data": {
      "text/plain": [
       "<AxesSubplot:>"
      ]
     },
     "execution_count": 99,
     "metadata": {},
     "output_type": "execute_result"
    },
    {
     "data": {
      "image/png": "[encoded data removed]",
      "text/plain": [
       "<Figure size 432x288 with 1 Axes>"
      ]
     },
     "metadata": {
      "needs_background": "light"
     },
     "output_type": "display_data"
    }
   ],
   "source": [
    "# figure(figsize=(10, 5), dpi=300)\n",
    "\n",
    "plt.xticks(rotation=0)\n",
    "df['Метод определения цены'].value_counts(sort=True, ascending=True).plot.barh()\n",
    "# plt.savefig(f'Метод определения цены.jpg', bbox_inches = 'tight', dpi=300)"
   ]
  },
  {
   "cell_type": "code",
   "execution_count": 100,
   "id": "2f04a6d6",
   "metadata": {},
   "outputs": [
    {
     "data": {
      "text/plain": [
       "<AxesSubplot:>"
      ]
     },
     "execution_count": 100,
     "metadata": {},
     "output_type": "execute_result"
    },
    {
     "data": {
      "image/png": "[encoded data removed]",
      "text/plain": [
       "<Figure size 432x288 with 1 Axes>"
      ]
     },
     "metadata": {
      "needs_background": "light"
     },
     "output_type": "display_data"
    }
   ],
   "source": [
    "# figure(figsize=(10, 5), dpi=300)\n",
    "\n",
    "plt.xticks(rotation=0)\n",
    "df['Стадия строительной готовности на дату договора'].value_counts(sort=True, ascending=True).plot.barh()\n",
    "# plt.savefig(f'Стадия строительной готовности на дату договора.jpg', bbox_inches = 'tight', dpi=300)"
   ]
  },
  {
   "cell_type": "code",
   "execution_count": 101,
   "id": "38b81eea",
   "metadata": {},
   "outputs": [
    {
     "data": {
      "image/png": "[encoded data removed]",
      "text/plain": [
       "<Figure size 400x200 with 1 Axes>"
      ]
     },
     "metadata": {
      "needs_background": "light"
     },
     "output_type": "display_data"
    }
   ],
   "source": [
    "figure(figsize=(4, 2), dpi=100)\n",
    "for i in ['Район',\n",
    "        'Класс', \n",
    "         'Тип сделки', 'Тип объекта', 'Тип продавца',\n",
    "       'Тип покупателя', 'Тип ипотеки', 'Участие объекта в оптовой сделке']:\n",
    "    plt.title(i)\n",
    "    plot = df[i].value_counts(sort=True, ascending=True).plot.bar()\n",
    "    \n",
    "    \n",
    "#     for bar in plot.patches:\n",
    "#         plot.annotate(format(bar.get_height(), '.2f'),\n",
    "#                        (bar.get_x() + bar.get_width() / 2,\n",
    "#                         bar.get_height()), ha='center', va='center',\n",
    "#                        size=5, xytext=(0, 3),\n",
    "#                        textcoords='offset points')\n",
    "    \n",
    "    plt.xticks(rotation=0)\n",
    "#     plt.savefig(f'{i}.jpg', bbox_inches = 'tight', dpi=300)\n",
    "#     print(plt.show())"
   ]
  },
  {
   "cell_type": "markdown",
   "id": "1c45a156",
   "metadata": {},
   "source": [
    "## Распределения"
   ]
  },
  {
   "cell_type": "code",
   "execution_count": 102,
   "id": "f62c0d85",
   "metadata": {},
   "outputs": [
    {
     "data": {
      "text/plain": [
       "<AxesSubplot:>"
      ]
     },
     "execution_count": 102,
     "metadata": {},
     "output_type": "execute_result"
    },
    {
     "data": {
      "image/png": "[encoded data removed]",
      "text/plain": [
       "<Figure size 432x288 with 1 Axes>"
      ]
     },
     "metadata": {
      "needs_background": "light"
     },
     "output_type": "display_data"
    }
   ],
   "source": [
    "df['Цена за кв. метр'].hist()\n",
    "# plt.savefig(f'Цена за кв. метр.jpg', bbox_inches = 'tight', dpi=300)"
   ]
  },
  {
   "cell_type": "code",
   "execution_count": 103,
   "id": "201bc31d",
   "metadata": {},
   "outputs": [
    {
     "data": {
      "text/plain": [
       "<AxesSubplot:>"
      ]
     },
     "execution_count": 103,
     "metadata": {},
     "output_type": "execute_result"
    },
    {
     "data": {
      "image/png": "[encoded data removed]",
      "text/plain": [
       "<Figure size 432x288 with 1 Axes>"
      ]
     },
     "metadata": {
      "needs_background": "light"
     },
     "output_type": "display_data"
    }
   ],
   "source": [
    "df['Площадь согласно ПД'].hist()\n",
    "# plt.savefig(f'Площадь.jpg', bbox_inches = 'tight', dpi=300)"
   ]
  },
  {
   "cell_type": "code",
   "execution_count": 104,
   "id": "27483134",
   "metadata": {},
   "outputs": [
    {
     "data": {
      "text/plain": [
       "<AxesSubplot:>"
      ]
     },
     "execution_count": 104,
     "metadata": {},
     "output_type": "execute_result"
    },
    {
     "data": {
      "image/png": "[encoded data removed]",
      "text/plain": [
       "<Figure size 432x288 with 1 Axes>"
      ]
     },
     "metadata": {
      "needs_background": "light"
     },
     "output_type": "display_data"
    }
   ],
   "source": [
    "df['Расстояние до метро'].hist()"
   ]
  },
  {
   "cell_type": "code",
   "execution_count": 105,
   "id": "b005c6c5",
   "metadata": {},
   "outputs": [
    {
     "data": {
      "text/plain": [
       "139314.7"
      ]
     },
     "execution_count": 105,
     "metadata": {},
     "output_type": "execute_result"
    }
   ],
   "source": [
    "max(df['Расстояние до метро'])"
   ]
  },
  {
   "cell_type": "markdown",
   "id": "f4ec0b45",
   "metadata": {},
   "source": [
    "## Выявление аномалий"
   ]
  },
  {
   "cell_type": "code",
   "execution_count": 106,
   "id": "4b875f50",
   "metadata": {},
   "outputs": [],
   "source": [
    "# # figure(figsize=(10, 5), dpi=300)\n",
    "# for i in df.columns:\n",
    "#     print(i)\n",
    "# #     figure(figsize=(10, 5), dpi=300)\n",
    "#     sns.boxplot(y=i, data=df)\n",
    "#     print(plt.show())"
   ]
  },
  {
   "cell_type": "markdown",
   "id": "cd1eb98d",
   "metadata": {},
   "source": [
    "## Transforming for ML"
   ]
  },
  {
   "cell_type": "code",
   "execution_count": 107,
   "id": "456cd701",
   "metadata": {},
   "outputs": [],
   "source": [
    "label_dict = {}\n",
    "\n",
    "def label_encode(name):\n",
    "    df[name] = pd.Categorical(df[name])\n",
    "    d = dict(enumerate(df[name].cat.categories))\n",
    "    inverted_d = {v: k for k, v in d.items()}\n",
    "    print(name, inverted_d.keys())\n",
    "    df[name] = df[name].cat.codes\n",
    "    label_dict.update(inverted_d)"
   ]
  },
  {
   "cell_type": "code",
   "execution_count": 108,
   "id": "e52cc1f8",
   "metadata": {},
   "outputs": [
    {
     "data": {
      "text/html": [
       "<div>\n",
       "<style scoped>\n",
       "    .dataframe tbody tr th:only-of-type {\n",
       "        vertical-align: middle;\n",
       "    }\n",
       "\n",
       "    .dataframe tbody tr th {\n",
       "        vertical-align: top;\n",
       "    }\n",
       "\n",
       "    .dataframe thead th {\n",
       "        text-align: right;\n",
       "    }\n",
       "</style>\n",
       "<table border=\"1\" class=\"dataframe\">\n",
       "  <thead>\n",
       "    <tr style=\"text-align: right;\">\n",
       "      <th></th>\n",
       "      <th>Район</th>\n",
       "      <th>Адрес корпуса</th>\n",
       "      <th>Расстояние до метро</th>\n",
       "      <th>Стадия строительной готовности на дату договора</th>\n",
       "      <th>Заявленный срок ввода в эксплуатацию</th>\n",
       "      <th>Старт продаж</th>\n",
       "      <th>Класс</th>\n",
       "      <th>Девелопер</th>\n",
       "      <th>Дата договора</th>\n",
       "      <th>Квартал договора</th>\n",
       "      <th>Дата регистрации</th>\n",
       "      <th>Тип сделки</th>\n",
       "      <th>Квартал регистрации</th>\n",
       "      <th>Тип объекта</th>\n",
       "      <th>Секция</th>\n",
       "      <th>Этаж</th>\n",
       "      <th>Количество комнат</th>\n",
       "      <th>Площадь согласно ПД</th>\n",
       "      <th>Цена за кв. метр</th>\n",
       "      <th>Метод определения цены</th>\n",
       "      <th>Включение скидок/акций в ценообразование</th>\n",
       "      <th>Скидки по дате договора</th>\n",
       "      <th>Отделка по корпусу</th>\n",
       "      <th>Тип продавца</th>\n",
       "      <th>Тип покупателя</th>\n",
       "      <th>Кол-во покупателей</th>\n",
       "      <th>Тип ипотеки</th>\n",
       "      <th>Участие объекта в оптовой сделке</th>\n",
       "      <th>Срок в экспозиции до момента сделки, дней</th>\n",
       "      <th>Рост цены за 1 кв.м за период экспонирования</th>\n",
       "    </tr>\n",
       "  </thead>\n",
       "  <tbody>\n",
       "    <tr>\n",
       "      <th>0</th>\n",
       "      <td>НАО</td>\n",
       "      <td>Крекшино, д. 9 (3 оч.)</td>\n",
       "      <td>15071.10</td>\n",
       "      <td>Строительство не начато</td>\n",
       "      <td>2020-06-30</td>\n",
       "      <td>2017-05-01</td>\n",
       "      <td>Комфорт</td>\n",
       "      <td>Barkli</td>\n",
       "      <td>2019-01-01</td>\n",
       "      <td>1</td>\n",
       "      <td>2019-02-18</td>\n",
       "      <td>Договор участия</td>\n",
       "      <td>1</td>\n",
       "      <td>квартира</td>\n",
       "      <td>4</td>\n",
       "      <td>5</td>\n",
       "      <td>студия</td>\n",
       "      <td>27.43</td>\n",
       "      <td>95325.34</td>\n",
       "      <td>Прайс совпадение площади</td>\n",
       "      <td>без скидки</td>\n",
       "      <td>Скидка 12% на ограниченный пул квартир. Скидка...</td>\n",
       "      <td>С отделкой</td>\n",
       "      <td>ЮЛ</td>\n",
       "      <td>ФЛ</td>\n",
       "      <td>1</td>\n",
       "      <td>Нет</td>\n",
       "      <td>Нет</td>\n",
       "      <td>н/д</td>\n",
       "      <td>н/д</td>\n",
       "    </tr>\n",
       "    <tr>\n",
       "      <th>1</th>\n",
       "      <td>НАО</td>\n",
       "      <td>Московский п., в районе Румянцево дер., уч. 17...</td>\n",
       "      <td>127.74</td>\n",
       "      <td>Монтажные и отделочные работы</td>\n",
       "      <td>2020-06-30</td>\n",
       "      <td>2018-04-01</td>\n",
       "      <td>Комфорт</td>\n",
       "      <td>Lexion Development</td>\n",
       "      <td>2019-01-01</td>\n",
       "      <td>1</td>\n",
       "      <td>2019-05-08</td>\n",
       "      <td>Договор участия</td>\n",
       "      <td>2</td>\n",
       "      <td>квартира</td>\n",
       "      <td>4</td>\n",
       "      <td>11</td>\n",
       "      <td>2</td>\n",
       "      <td>62.60</td>\n",
       "      <td>114000.00</td>\n",
       "      <td>Прайс совпадение площади</td>\n",
       "      <td>без скидки</td>\n",
       "      <td>Скидка 2% при 100% оплате или ипотеке. При еди...</td>\n",
       "      <td>Без отделки</td>\n",
       "      <td>ЮЛ</td>\n",
       "      <td>ФЛ</td>\n",
       "      <td>1</td>\n",
       "      <td>Нет</td>\n",
       "      <td>Нет</td>\n",
       "      <td>211</td>\n",
       "      <td>7,5%</td>\n",
       "    </tr>\n",
       "    <tr>\n",
       "      <th>2</th>\n",
       "      <td>НАО</td>\n",
       "      <td>Московский п., в районе Румянцево дер., уч. 17...</td>\n",
       "      <td>127.74</td>\n",
       "      <td>Монтажные и отделочные работы</td>\n",
       "      <td>2020-06-30</td>\n",
       "      <td>2018-04-01</td>\n",
       "      <td>Комфорт</td>\n",
       "      <td>Lexion Development</td>\n",
       "      <td>2019-01-01</td>\n",
       "      <td>1</td>\n",
       "      <td>2019-05-08</td>\n",
       "      <td>Договор участия</td>\n",
       "      <td>2</td>\n",
       "      <td>квартира</td>\n",
       "      <td>13</td>\n",
       "      <td>22</td>\n",
       "      <td>студия</td>\n",
       "      <td>24.10</td>\n",
       "      <td>143000.00</td>\n",
       "      <td>Прайс совпадение площади</td>\n",
       "      <td>без скидки</td>\n",
       "      <td>Скидка 2% при 100% оплате или ипотеке. При еди...</td>\n",
       "      <td>Без отделки</td>\n",
       "      <td>ЮЛ</td>\n",
       "      <td>ФЛ</td>\n",
       "      <td>3</td>\n",
       "      <td>Нет</td>\n",
       "      <td>Нет</td>\n",
       "      <td>211</td>\n",
       "      <td>16,3%</td>\n",
       "    </tr>\n",
       "  </tbody>\n",
       "</table>\n",
       "</div>"
      ],
      "text/plain": [
       "  Район                                      Адрес корпуса  \\\n",
       "0   НАО                             Крекшино, д. 9 (3 оч.)   \n",
       "1   НАО  Московский п., в районе Румянцево дер., уч. 17...   \n",
       "2   НАО  Московский п., в районе Румянцево дер., уч. 17...   \n",
       "\n",
       "   Расстояние до метро Стадия строительной готовности на дату договора  \\\n",
       "0             15071.10                         Строительство не начато   \n",
       "1               127.74                   Монтажные и отделочные работы   \n",
       "2               127.74                   Монтажные и отделочные работы   \n",
       "\n",
       "  Заявленный срок ввода в эксплуатацию Старт продаж    Класс  \\\n",
       "0                           2020-06-30   2017-05-01  Комфорт   \n",
       "1                           2020-06-30   2018-04-01  Комфорт   \n",
       "2                           2020-06-30   2018-04-01  Комфорт   \n",
       "\n",
       "            Девелопер Дата договора  Квартал договора Дата регистрации  \\\n",
       "0              Barkli    2019-01-01                 1       2019-02-18   \n",
       "1  Lexion Development    2019-01-01                 1       2019-05-08   \n",
       "2  Lexion Development    2019-01-01                 1       2019-05-08   \n",
       "\n",
       "        Тип сделки  Квартал регистрации Тип объекта  Секция  Этаж  \\\n",
       "0  Договор участия                    1    квартира       4     5   \n",
       "1  Договор участия                    2    квартира       4    11   \n",
       "2  Договор участия                    2    квартира      13    22   \n",
       "\n",
       "  Количество комнат  Площадь согласно ПД  Цена за кв. метр  \\\n",
       "0            студия                27.43          95325.34   \n",
       "1                 2                62.60         114000.00   \n",
       "2            студия                24.10         143000.00   \n",
       "\n",
       "     Метод определения цены Включение скидок/акций в ценообразование  \\\n",
       "0  Прайс совпадение площади                               без скидки   \n",
       "1  Прайс совпадение площади                               без скидки   \n",
       "2  Прайс совпадение площади                               без скидки   \n",
       "\n",
       "                             Скидки по дате договора Отделка по корпусу  \\\n",
       "0  Скидка 12% на ограниченный пул квартир. Скидка...         С отделкой   \n",
       "1  Скидка 2% при 100% оплате или ипотеке. При еди...        Без отделки   \n",
       "2  Скидка 2% при 100% оплате или ипотеке. При еди...        Без отделки   \n",
       "\n",
       "  Тип продавца Тип покупателя  Кол-во покупателей Тип ипотеки  \\\n",
       "0           ЮЛ             ФЛ                   1         Нет   \n",
       "1           ЮЛ             ФЛ                   1         Нет   \n",
       "2           ЮЛ             ФЛ                   3         Нет   \n",
       "\n",
       "  Участие объекта в оптовой сделке Срок в экспозиции до момента сделки, дней  \\\n",
       "0                              Нет                                       н/д   \n",
       "1                              Нет                                       211   \n",
       "2                              Нет                                       211   \n",
       "\n",
       "  Рост цены за 1 кв.м за период экспонирования  \n",
       "0                                          н/д  \n",
       "1                                         7,5%  \n",
       "2                                        16,3%  "
      ]
     },
     "execution_count": 108,
     "metadata": {},
     "output_type": "execute_result"
    }
   ],
   "source": [
    "df.head(3)"
   ]
  },
  {
   "cell_type": "code",
   "execution_count": 109,
   "id": "9500db2b",
   "metadata": {},
   "outputs": [],
   "source": [
    "# df.info()"
   ]
  },
  {
   "cell_type": "code",
   "execution_count": 110,
   "id": "9c912bc1",
   "metadata": {},
   "outputs": [
    {
     "name": "stdout",
     "output_type": "stream",
     "text": [
      "Район dict_keys(['НАО', 'ТАО'])\n",
      "Тип сделки dict_keys(['Договор уступки', 'Договор участия'])\n",
      "Тип объекта dict_keys(['апартаменты', 'квартира'])\n",
      "Метод определения цены dict_keys(['Аналитика по корпусу', 'Аналитика по типу комнатности', 'Крайние значения обновлений', 'Прайс совпадение площади', 'Прайс точное совпадение', 'Цена по последнему историческому слою', 'Цена позже даты сделки'])\n",
      "Включение скидок/акций в ценообразование dict_keys(['без скидки', 'со скидкой', 'со скидкой и без скидки'])\n",
      "Тип продавца dict_keys(['ФЛ', 'ЮЛ'])\n",
      "Тип покупателя dict_keys(['ФЛ', 'ЮЛ'])\n",
      "Тип ипотеки dict_keys(['Ипотека', 'Нет'])\n",
      "Участие объекта в оптовой сделке dict_keys(['ДА', 'Нет'])\n",
      "Стадия строительной готовности на дату договора dict_keys(['Введен в эксплуатацию', 'Монтажные и отделочные работы', 'Начало монтажных работ', 'Получение РВЭ, благоустройство территории', 'Работы нулевого цикла', 'Строительство не начато'])\n",
      "Класс dict_keys(['Бизнес', 'Комфорт', 'Эконом'])\n",
      "Девелопер dict_keys(['Barkli', 'INGRAD', 'Lexion Development', 'PPF Real Estate', 'Sezar Group', 'А101', 'Абсолют Недвижимость', 'Аквилон Инвест', 'ГК Родина', 'Гранель', 'Инвесттраст', 'Крост', 'МИЦ', 'Миэль Загородная Недвижимость', 'ПИК', 'СЗ СК Ключ', 'Самолет', 'СтройИнвестТопаз', 'ТБ-Инвест', 'УЭЗ', 'Центрстрой'])\n",
      "Отделка по корпусу dict_keys(['Без отделки', 'Без отделки, под чистовую и с отделкой', 'Без отделки, с отделкой и мебель как доп. опция', 'Отделка как доп. опция', 'Под чистовую', 'Под чистовую и без отделки', 'Под чистовую и отделка как доп. опция', 'Под чистовую и с отделкой', 'С отделкой', 'С отделкой и без', 'С отделкой и мебелью', 'С отделкой и отделка как доп. опция', 'С отделкой, мебель как доп. опция'])\n"
     ]
    }
   ],
   "source": [
    "label_encode('Район')\n",
    "label_encode('Тип сделки')\n",
    "label_encode('Тип объекта')\n",
    "label_encode('Метод определения цены')\n",
    "label_encode('Включение скидок/акций в ценообразование')\n",
    "label_encode('Тип продавца')\n",
    "label_encode('Тип покупателя')\n",
    "label_encode('Тип ипотеки')\n",
    "label_encode('Участие объекта в оптовой сделке')\n",
    "label_encode('Стадия строительной готовности на дату договора')\n",
    "label_encode('Класс')\n",
    "label_encode('Девелопер')\n",
    "label_encode('Отделка по корпусу')"
   ]
  },
  {
   "cell_type": "code",
   "execution_count": 111,
   "id": "a8430f89",
   "metadata": {},
   "outputs": [],
   "source": [
    "df['Количество комнат'] = df['Количество комнат'].replace('студия',0)\n",
    "df['Количество комнат'] = df['Количество комнат'].astype(str).astype(int)"
   ]
  },
  {
   "cell_type": "code",
   "execution_count": 112,
   "id": "e3260dc3",
   "metadata": {},
   "outputs": [],
   "source": [
    "df = df.drop('Адрес корпуса', axis=1)"
   ]
  },
  {
   "cell_type": "code",
   "execution_count": 113,
   "id": "6ce3af50",
   "metadata": {},
   "outputs": [],
   "source": [
    "# max может влиять на модель, проверить с min\n",
    "import re\n",
    "c = 0\n",
    "discounts = []\n",
    "df['Скидки по дате договора'] = df['Скидки по дате договора'].replace(float('nan'),'')\n",
    "for i in df['Скидки по дате договора']:\n",
    "    found = \"\".join(re.findall(r'Скидка \\d+%|Скидка до \\d+%',i))\n",
    "    if len(found) != 0:\n",
    "        max_discount = max([int(i) for i in re.findall('[0-9]+',found)])\n",
    "        discounts.append(max_discount)\n",
    "    else:\n",
    "        discounts.append(0)"
   ]
  },
  {
   "cell_type": "code",
   "execution_count": 114,
   "id": "7b50a7da",
   "metadata": {},
   "outputs": [],
   "source": [
    "df['Скидки по дате договора'] = discounts"
   ]
  },
  {
   "cell_type": "code",
   "execution_count": 115,
   "id": "f97e1309",
   "metadata": {},
   "outputs": [],
   "source": [
    "# н/д в 0 может повлиять на модель!\n",
    "\n",
    "df['Срок в экспозиции до момента сделки, дней'] = df['Срок в экспозиции до момента сделки, дней'].replace('н/д', 0)\n",
    "df['Срок в экспозиции до момента сделки, дней'] = df['Срок в экспозиции до момента сделки, дней'].astype(str).astype(int)\n",
    "df['Срок в экспозиции до момента сделки, дней'] = df['Срок в экспозиции до момента сделки, дней'].abs()"
   ]
  },
  {
   "cell_type": "code",
   "execution_count": 116,
   "id": "f5fd9495",
   "metadata": {},
   "outputs": [],
   "source": [
    "price = df['Рост цены за 1 кв.м за период экспонирования']\n",
    "price = [float(i.split('%')[0].replace(',','.')) if '%' in i else i for i in price]\n",
    "df['Рост цены за 1 кв.м за период экспонирования'] = price\n",
    "df['Рост цены за 1 кв.м за период экспонирования'] = df['Рост цены за 1 кв.м за период экспонирования'].replace('н/д', 0)"
   ]
  },
  {
   "cell_type": "code",
   "execution_count": 117,
   "id": "07e9bd35",
   "metadata": {},
   "outputs": [
    {
     "data": {
      "text/plain": [
       "Timestamp('2017-05-01 00:00:00')"
      ]
     },
     "execution_count": 117,
     "metadata": {},
     "output_type": "execute_result"
    }
   ],
   "source": [
    "df['Старт продаж'][0]"
   ]
  },
  {
   "cell_type": "code",
   "execution_count": 118,
   "id": "471ec800",
   "metadata": {},
   "outputs": [
    {
     "data": {
      "text/plain": [
       "Timestamp('2020-06-30 00:00:00')"
      ]
     },
     "execution_count": 118,
     "metadata": {},
     "output_type": "execute_result"
    }
   ],
   "source": [
    "df['Заявленный срок ввода в эксплуатацию'][0]"
   ]
  },
  {
   "cell_type": "code",
   "execution_count": 119,
   "id": "beef383e",
   "metadata": {},
   "outputs": [],
   "source": [
    "\n",
    "df.insert(4, 'Срок ввода в эксплуатацию - Старт продаж' ,(df['Заявленный срок ввода в эксплуатацию'] - df['Старт продаж']).dt.days)\n",
    "\n",
    "\n",
    "df.insert(8, 'Срок ввода в эксплуатацию - Договор' ,(df['Заявленный срок ввода в эксплуатацию']-df['Дата договора']).dt.days)\n",
    "\n",
    "\n",
    "df = df.drop(['Заявленный срок ввода в эксплуатацию','Дата договора', 'Старт продаж', 'Дата регистрации'], axis=1)"
   ]
  },
  {
   "cell_type": "code",
   "execution_count": 120,
   "id": "f1900e39",
   "metadata": {},
   "outputs": [],
   "source": [
    "df.to_excel('ml.xlsx')"
   ]
  },
  {
   "cell_type": "code",
   "execution_count": null,
   "id": "d8ea944a",
   "metadata": {
    "tags": []
   },
   "outputs": [],
   "source": [
    "df['Срок в экспозиции до момента сделки, дней'].mean()"
   ]
  },
  {
   "cell_type": "code",
   "execution_count": null,
   "id": "259c904d",
   "metadata": {
    "tags": []
   },
   "outputs": [],
   "source": [
    "df['Срок ввода в эксплуатацию - Старт продаж'].mean()"
   ]
  },
  {
   "cell_type": "code",
   "execution_count": null,
   "id": "c322e2b6",
   "metadata": {
    "tags": []
   },
   "outputs": [],
   "source": [
    "df['Срок ввода в эксплуатацию - Договор'].mean()"
   ]
  },
  {
   "cell_type": "code",
   "execution_count": null,
   "id": "d0e52d6f",
   "metadata": {
    "tags": []
   },
   "outputs": [],
   "source": [
    "df['Площадь согласно ПД'].mean()"
   ]
  },
  {
   "cell_type": "code",
   "execution_count": null,
   "id": "c203343a",
   "metadata": {
    "tags": []
   },
   "outputs": [],
   "source": [
    "df['Рост цены за 1 кв.м за период экспонирования'].mean()"
   ]
  },
  {
   "cell_type": "code",
   "execution_count": null,
   "id": "7ca2f683",
   "metadata": {
    "tags": []
   },
   "outputs": [],
   "source": [
    "import seaborn as sns\n",
    "import matplotlib.pyplot as plt\n",
    "cols = list(df.columns)\n",
    "cols.remove('Цена за кв. метр')\n",
    "fig, (ax1, ax2, ax3, ax4, ax5, ax6) = plt.subplots(nrows=1, ncols=6)\n",
    "\n",
    "ax1.violinplot(df['Район'], showmedians=True)\n",
    "ax2.violinplot(df['Девелопер'], showmedians=True)\n",
    "ax3.violinplot(df['Площадь согласно ПД'], showmedians=True)\n",
    "ax4.violinplot(df['Отделка по корпусу'], showmedians=True)\n",
    "ax5.violinplot(df['Класс'], showmedians=True)\n",
    "ax6.violinplot(df['Цена за кв. метр'], showmedians=True)\n",
    "\n",
    "\n",
    "plt.show()"
   ]
  },
  {
   "cell_type": "code",
   "execution_count": null,
   "id": "77b478de",
   "metadata": {},
   "outputs": [],
   "source": [
    "cor = df.corr()\n",
    "cor = cor[abs(cor) >= 0.5]\n",
    "cor = cor[cor != 1.0]\n",
    "cor.replace(np.nan,0,inplace=True)\n",
    "cor = cor.drop_duplicates()\n",
    "for col in cor.columns:\n",
    "    if len(set(list(cor[col].values))) == 1:\n",
    "        cor = cor.drop([col], axis=1)\n",
    "cor.replace(0,np.nan,inplace=True)"
   ]
  },
  {
   "cell_type": "code",
   "execution_count": null,
   "id": "c846e698",
   "metadata": {
    "tags": []
   },
   "outputs": [],
   "source": [
    "sns.set(font_scale=2)\n",
    "sns.heatmap(cor, annot=True)\n",
    "plt.show()"
   ]
  }
 ],
 "metadata": {
  "direction": "ltr",
  "kernelspec": {
   "display_name": "Python 3",
   "language": "python",
   "name": "python3"
  },
  "language_info": {
   "codemirror_mode": {
    "name": "ipython",
    "version": 3
   },
   "file_extension": ".py",
   "mimetype": "text/x-python",
   "name": "python",
   "nbconvert_exporter": "python",
   "pygments_lexer": "ipython3",
   "version": "3.9.6"
  }
 },
 "nbformat": 4,
 "nbformat_minor": 5
}
